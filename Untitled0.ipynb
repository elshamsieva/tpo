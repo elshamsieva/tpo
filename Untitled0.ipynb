{
  "nbformat": 4,
  "nbformat_minor": 0,
  "metadata": {
    "colab": {
      "name": "Untitled0.ipynb",
      "provenance": [],
      "collapsed_sections": [],
      "authorship_tag": "ABX9TyPo2zaojj0Gj53o5yKgJewh",
      "include_colab_link": true
    },
    "kernelspec": {
      "name": "python3",
      "display_name": "Python 3"
    },
    "accelerator": "GPU",
    "widgets": {
      "application/vnd.jupyter.widget-state+json": {
        "d072ccc4985a43a6b0a4c619e08d00e5": {
          "model_module": "@jupyter-widgets/controls",
          "model_name": "HBoxModel",
          "state": {
            "_view_name": "HBoxView",
            "_dom_classes": [],
            "_model_name": "HBoxModel",
            "_view_module": "@jupyter-widgets/controls",
            "_model_module_version": "1.5.0",
            "_view_count": null,
            "_view_module_version": "1.5.0",
            "box_style": "",
            "layout": "IPY_MODEL_bdef519264b742e784335827e57ce060",
            "_model_module": "@jupyter-widgets/controls",
            "children": [
              "IPY_MODEL_a53f36b112584189844136b64dabe738",
              "IPY_MODEL_be198a7d9b5b449fb0729a5afe6659ce"
            ]
          }
        },
        "bdef519264b742e784335827e57ce060": {
          "model_module": "@jupyter-widgets/base",
          "model_name": "LayoutModel",
          "state": {
            "_view_name": "LayoutView",
            "grid_template_rows": null,
            "right": null,
            "justify_content": null,
            "_view_module": "@jupyter-widgets/base",
            "overflow": null,
            "_model_module_version": "1.2.0",
            "_view_count": null,
            "flex_flow": null,
            "width": null,
            "min_width": null,
            "border": null,
            "align_items": null,
            "bottom": null,
            "_model_module": "@jupyter-widgets/base",
            "top": null,
            "grid_column": null,
            "overflow_y": null,
            "overflow_x": null,
            "grid_auto_flow": null,
            "grid_area": null,
            "grid_template_columns": null,
            "flex": null,
            "_model_name": "LayoutModel",
            "justify_items": null,
            "grid_row": null,
            "max_height": null,
            "align_content": null,
            "visibility": null,
            "align_self": null,
            "height": null,
            "min_height": null,
            "padding": null,
            "grid_auto_rows": null,
            "grid_gap": null,
            "max_width": null,
            "order": null,
            "_view_module_version": "1.2.0",
            "grid_template_areas": null,
            "object_position": null,
            "object_fit": null,
            "grid_auto_columns": null,
            "margin": null,
            "display": null,
            "left": null
          }
        },
        "a53f36b112584189844136b64dabe738": {
          "model_module": "@jupyter-widgets/controls",
          "model_name": "FloatProgressModel",
          "state": {
            "_view_name": "ProgressView",
            "style": "IPY_MODEL_71579a3648ed4352a45e55b39d8da70e",
            "_dom_classes": [],
            "description": "",
            "_model_name": "FloatProgressModel",
            "bar_style": "success",
            "max": 1,
            "_view_module": "@jupyter-widgets/controls",
            "_model_module_version": "1.5.0",
            "value": 1,
            "_view_count": null,
            "_view_module_version": "1.5.0",
            "orientation": "horizontal",
            "min": 0,
            "description_tooltip": null,
            "_model_module": "@jupyter-widgets/controls",
            "layout": "IPY_MODEL_ce19ca42eb5f4108a014c669975e5d6f"
          }
        },
        "be198a7d9b5b449fb0729a5afe6659ce": {
          "model_module": "@jupyter-widgets/controls",
          "model_name": "HTMLModel",
          "state": {
            "_view_name": "HTMLView",
            "style": "IPY_MODEL_9dca88d30b6445d8ac6c2cdf051ee5ad",
            "_dom_classes": [],
            "description": "",
            "_model_name": "HTMLModel",
            "placeholder": "​",
            "_view_module": "@jupyter-widgets/controls",
            "_model_module_version": "1.5.0",
            "value": " 9920512/? [00:01&lt;00:00, 5011507.92it/s]",
            "_view_count": null,
            "_view_module_version": "1.5.0",
            "description_tooltip": null,
            "_model_module": "@jupyter-widgets/controls",
            "layout": "IPY_MODEL_2ad2bca30a0b4509afe1a1ed28846d6b"
          }
        },
        "71579a3648ed4352a45e55b39d8da70e": {
          "model_module": "@jupyter-widgets/controls",
          "model_name": "ProgressStyleModel",
          "state": {
            "_view_name": "StyleView",
            "_model_name": "ProgressStyleModel",
            "description_width": "initial",
            "_view_module": "@jupyter-widgets/base",
            "_model_module_version": "1.5.0",
            "_view_count": null,
            "_view_module_version": "1.2.0",
            "bar_color": null,
            "_model_module": "@jupyter-widgets/controls"
          }
        },
        "ce19ca42eb5f4108a014c669975e5d6f": {
          "model_module": "@jupyter-widgets/base",
          "model_name": "LayoutModel",
          "state": {
            "_view_name": "LayoutView",
            "grid_template_rows": null,
            "right": null,
            "justify_content": null,
            "_view_module": "@jupyter-widgets/base",
            "overflow": null,
            "_model_module_version": "1.2.0",
            "_view_count": null,
            "flex_flow": null,
            "width": null,
            "min_width": null,
            "border": null,
            "align_items": null,
            "bottom": null,
            "_model_module": "@jupyter-widgets/base",
            "top": null,
            "grid_column": null,
            "overflow_y": null,
            "overflow_x": null,
            "grid_auto_flow": null,
            "grid_area": null,
            "grid_template_columns": null,
            "flex": null,
            "_model_name": "LayoutModel",
            "justify_items": null,
            "grid_row": null,
            "max_height": null,
            "align_content": null,
            "visibility": null,
            "align_self": null,
            "height": null,
            "min_height": null,
            "padding": null,
            "grid_auto_rows": null,
            "grid_gap": null,
            "max_width": null,
            "order": null,
            "_view_module_version": "1.2.0",
            "grid_template_areas": null,
            "object_position": null,
            "object_fit": null,
            "grid_auto_columns": null,
            "margin": null,
            "display": null,
            "left": null
          }
        },
        "9dca88d30b6445d8ac6c2cdf051ee5ad": {
          "model_module": "@jupyter-widgets/controls",
          "model_name": "DescriptionStyleModel",
          "state": {
            "_view_name": "StyleView",
            "_model_name": "DescriptionStyleModel",
            "description_width": "",
            "_view_module": "@jupyter-widgets/base",
            "_model_module_version": "1.5.0",
            "_view_count": null,
            "_view_module_version": "1.2.0",
            "_model_module": "@jupyter-widgets/controls"
          }
        },
        "2ad2bca30a0b4509afe1a1ed28846d6b": {
          "model_module": "@jupyter-widgets/base",
          "model_name": "LayoutModel",
          "state": {
            "_view_name": "LayoutView",
            "grid_template_rows": null,
            "right": null,
            "justify_content": null,
            "_view_module": "@jupyter-widgets/base",
            "overflow": null,
            "_model_module_version": "1.2.0",
            "_view_count": null,
            "flex_flow": null,
            "width": null,
            "min_width": null,
            "border": null,
            "align_items": null,
            "bottom": null,
            "_model_module": "@jupyter-widgets/base",
            "top": null,
            "grid_column": null,
            "overflow_y": null,
            "overflow_x": null,
            "grid_auto_flow": null,
            "grid_area": null,
            "grid_template_columns": null,
            "flex": null,
            "_model_name": "LayoutModel",
            "justify_items": null,
            "grid_row": null,
            "max_height": null,
            "align_content": null,
            "visibility": null,
            "align_self": null,
            "height": null,
            "min_height": null,
            "padding": null,
            "grid_auto_rows": null,
            "grid_gap": null,
            "max_width": null,
            "order": null,
            "_view_module_version": "1.2.0",
            "grid_template_areas": null,
            "object_position": null,
            "object_fit": null,
            "grid_auto_columns": null,
            "margin": null,
            "display": null,
            "left": null
          }
        },
        "fc51ad70f2bb4f9fb1e2ea6c538d9084": {
          "model_module": "@jupyter-widgets/controls",
          "model_name": "HBoxModel",
          "state": {
            "_view_name": "HBoxView",
            "_dom_classes": [],
            "_model_name": "HBoxModel",
            "_view_module": "@jupyter-widgets/controls",
            "_model_module_version": "1.5.0",
            "_view_count": null,
            "_view_module_version": "1.5.0",
            "box_style": "",
            "layout": "IPY_MODEL_c2a7f915a5784f2994cb6355071917ac",
            "_model_module": "@jupyter-widgets/controls",
            "children": [
              "IPY_MODEL_eb533716aa344e8d9f53ffb1d668b60f",
              "IPY_MODEL_9db6e33d3e284f458bffa477f724787d"
            ]
          }
        },
        "c2a7f915a5784f2994cb6355071917ac": {
          "model_module": "@jupyter-widgets/base",
          "model_name": "LayoutModel",
          "state": {
            "_view_name": "LayoutView",
            "grid_template_rows": null,
            "right": null,
            "justify_content": null,
            "_view_module": "@jupyter-widgets/base",
            "overflow": null,
            "_model_module_version": "1.2.0",
            "_view_count": null,
            "flex_flow": null,
            "width": null,
            "min_width": null,
            "border": null,
            "align_items": null,
            "bottom": null,
            "_model_module": "@jupyter-widgets/base",
            "top": null,
            "grid_column": null,
            "overflow_y": null,
            "overflow_x": null,
            "grid_auto_flow": null,
            "grid_area": null,
            "grid_template_columns": null,
            "flex": null,
            "_model_name": "LayoutModel",
            "justify_items": null,
            "grid_row": null,
            "max_height": null,
            "align_content": null,
            "visibility": null,
            "align_self": null,
            "height": null,
            "min_height": null,
            "padding": null,
            "grid_auto_rows": null,
            "grid_gap": null,
            "max_width": null,
            "order": null,
            "_view_module_version": "1.2.0",
            "grid_template_areas": null,
            "object_position": null,
            "object_fit": null,
            "grid_auto_columns": null,
            "margin": null,
            "display": null,
            "left": null
          }
        },
        "eb533716aa344e8d9f53ffb1d668b60f": {
          "model_module": "@jupyter-widgets/controls",
          "model_name": "FloatProgressModel",
          "state": {
            "_view_name": "ProgressView",
            "style": "IPY_MODEL_ecf7c935c34f4f05a61cee8606701593",
            "_dom_classes": [],
            "description": "",
            "_model_name": "FloatProgressModel",
            "bar_style": "success",
            "max": 1,
            "_view_module": "@jupyter-widgets/controls",
            "_model_module_version": "1.5.0",
            "value": 1,
            "_view_count": null,
            "_view_module_version": "1.5.0",
            "orientation": "horizontal",
            "min": 0,
            "description_tooltip": null,
            "_model_module": "@jupyter-widgets/controls",
            "layout": "IPY_MODEL_0b4d898dcf4e46f39b54c2920e812f3f"
          }
        },
        "9db6e33d3e284f458bffa477f724787d": {
          "model_module": "@jupyter-widgets/controls",
          "model_name": "HTMLModel",
          "state": {
            "_view_name": "HTMLView",
            "style": "IPY_MODEL_59fd75904c234889822db54afced8eac",
            "_dom_classes": [],
            "description": "",
            "_model_name": "HTMLModel",
            "placeholder": "​",
            "_view_module": "@jupyter-widgets/controls",
            "_model_module_version": "1.5.0",
            "value": " 32768/? [00:00&lt;00:00, 94169.16it/s]",
            "_view_count": null,
            "_view_module_version": "1.5.0",
            "description_tooltip": null,
            "_model_module": "@jupyter-widgets/controls",
            "layout": "IPY_MODEL_e717f642cba14505898cd41195ed74c3"
          }
        },
        "ecf7c935c34f4f05a61cee8606701593": {
          "model_module": "@jupyter-widgets/controls",
          "model_name": "ProgressStyleModel",
          "state": {
            "_view_name": "StyleView",
            "_model_name": "ProgressStyleModel",
            "description_width": "initial",
            "_view_module": "@jupyter-widgets/base",
            "_model_module_version": "1.5.0",
            "_view_count": null,
            "_view_module_version": "1.2.0",
            "bar_color": null,
            "_model_module": "@jupyter-widgets/controls"
          }
        },
        "0b4d898dcf4e46f39b54c2920e812f3f": {
          "model_module": "@jupyter-widgets/base",
          "model_name": "LayoutModel",
          "state": {
            "_view_name": "LayoutView",
            "grid_template_rows": null,
            "right": null,
            "justify_content": null,
            "_view_module": "@jupyter-widgets/base",
            "overflow": null,
            "_model_module_version": "1.2.0",
            "_view_count": null,
            "flex_flow": null,
            "width": null,
            "min_width": null,
            "border": null,
            "align_items": null,
            "bottom": null,
            "_model_module": "@jupyter-widgets/base",
            "top": null,
            "grid_column": null,
            "overflow_y": null,
            "overflow_x": null,
            "grid_auto_flow": null,
            "grid_area": null,
            "grid_template_columns": null,
            "flex": null,
            "_model_name": "LayoutModel",
            "justify_items": null,
            "grid_row": null,
            "max_height": null,
            "align_content": null,
            "visibility": null,
            "align_self": null,
            "height": null,
            "min_height": null,
            "padding": null,
            "grid_auto_rows": null,
            "grid_gap": null,
            "max_width": null,
            "order": null,
            "_view_module_version": "1.2.0",
            "grid_template_areas": null,
            "object_position": null,
            "object_fit": null,
            "grid_auto_columns": null,
            "margin": null,
            "display": null,
            "left": null
          }
        },
        "59fd75904c234889822db54afced8eac": {
          "model_module": "@jupyter-widgets/controls",
          "model_name": "DescriptionStyleModel",
          "state": {
            "_view_name": "StyleView",
            "_model_name": "DescriptionStyleModel",
            "description_width": "",
            "_view_module": "@jupyter-widgets/base",
            "_model_module_version": "1.5.0",
            "_view_count": null,
            "_view_module_version": "1.2.0",
            "_model_module": "@jupyter-widgets/controls"
          }
        },
        "e717f642cba14505898cd41195ed74c3": {
          "model_module": "@jupyter-widgets/base",
          "model_name": "LayoutModel",
          "state": {
            "_view_name": "LayoutView",
            "grid_template_rows": null,
            "right": null,
            "justify_content": null,
            "_view_module": "@jupyter-widgets/base",
            "overflow": null,
            "_model_module_version": "1.2.0",
            "_view_count": null,
            "flex_flow": null,
            "width": null,
            "min_width": null,
            "border": null,
            "align_items": null,
            "bottom": null,
            "_model_module": "@jupyter-widgets/base",
            "top": null,
            "grid_column": null,
            "overflow_y": null,
            "overflow_x": null,
            "grid_auto_flow": null,
            "grid_area": null,
            "grid_template_columns": null,
            "flex": null,
            "_model_name": "LayoutModel",
            "justify_items": null,
            "grid_row": null,
            "max_height": null,
            "align_content": null,
            "visibility": null,
            "align_self": null,
            "height": null,
            "min_height": null,
            "padding": null,
            "grid_auto_rows": null,
            "grid_gap": null,
            "max_width": null,
            "order": null,
            "_view_module_version": "1.2.0",
            "grid_template_areas": null,
            "object_position": null,
            "object_fit": null,
            "grid_auto_columns": null,
            "margin": null,
            "display": null,
            "left": null
          }
        },
        "b2cfff70079c47fb8079b4e7cb51d386": {
          "model_module": "@jupyter-widgets/controls",
          "model_name": "HBoxModel",
          "state": {
            "_view_name": "HBoxView",
            "_dom_classes": [],
            "_model_name": "HBoxModel",
            "_view_module": "@jupyter-widgets/controls",
            "_model_module_version": "1.5.0",
            "_view_count": null,
            "_view_module_version": "1.5.0",
            "box_style": "",
            "layout": "IPY_MODEL_ac0065e15ad54c7c8ed2f37ecb46b634",
            "_model_module": "@jupyter-widgets/controls",
            "children": [
              "IPY_MODEL_ddfb14296535444da79c674b992454c7",
              "IPY_MODEL_2e1afda9f1fd4cfaa6406ba3fd95b7da"
            ]
          }
        },
        "ac0065e15ad54c7c8ed2f37ecb46b634": {
          "model_module": "@jupyter-widgets/base",
          "model_name": "LayoutModel",
          "state": {
            "_view_name": "LayoutView",
            "grid_template_rows": null,
            "right": null,
            "justify_content": null,
            "_view_module": "@jupyter-widgets/base",
            "overflow": null,
            "_model_module_version": "1.2.0",
            "_view_count": null,
            "flex_flow": null,
            "width": null,
            "min_width": null,
            "border": null,
            "align_items": null,
            "bottom": null,
            "_model_module": "@jupyter-widgets/base",
            "top": null,
            "grid_column": null,
            "overflow_y": null,
            "overflow_x": null,
            "grid_auto_flow": null,
            "grid_area": null,
            "grid_template_columns": null,
            "flex": null,
            "_model_name": "LayoutModel",
            "justify_items": null,
            "grid_row": null,
            "max_height": null,
            "align_content": null,
            "visibility": null,
            "align_self": null,
            "height": null,
            "min_height": null,
            "padding": null,
            "grid_auto_rows": null,
            "grid_gap": null,
            "max_width": null,
            "order": null,
            "_view_module_version": "1.2.0",
            "grid_template_areas": null,
            "object_position": null,
            "object_fit": null,
            "grid_auto_columns": null,
            "margin": null,
            "display": null,
            "left": null
          }
        },
        "ddfb14296535444da79c674b992454c7": {
          "model_module": "@jupyter-widgets/controls",
          "model_name": "FloatProgressModel",
          "state": {
            "_view_name": "ProgressView",
            "style": "IPY_MODEL_47d83bfb17bb4ca9b19abdbbae924830",
            "_dom_classes": [],
            "description": "",
            "_model_name": "FloatProgressModel",
            "bar_style": "info",
            "max": 1,
            "_view_module": "@jupyter-widgets/controls",
            "_model_module_version": "1.5.0",
            "value": 1,
            "_view_count": null,
            "_view_module_version": "1.5.0",
            "orientation": "horizontal",
            "min": 0,
            "description_tooltip": null,
            "_model_module": "@jupyter-widgets/controls",
            "layout": "IPY_MODEL_114da4e04cec40cd8982b4d8edebadcf"
          }
        },
        "2e1afda9f1fd4cfaa6406ba3fd95b7da": {
          "model_module": "@jupyter-widgets/controls",
          "model_name": "HTMLModel",
          "state": {
            "_view_name": "HTMLView",
            "style": "IPY_MODEL_ce66493a3b5746019d483f1c89350fe3",
            "_dom_classes": [],
            "description": "",
            "_model_name": "HTMLModel",
            "placeholder": "​",
            "_view_module": "@jupyter-widgets/controls",
            "_model_module_version": "1.5.0",
            "value": " 1654784/? [00:18&lt;00:00, 245536.24it/s]",
            "_view_count": null,
            "_view_module_version": "1.5.0",
            "description_tooltip": null,
            "_model_module": "@jupyter-widgets/controls",
            "layout": "IPY_MODEL_1eee5345b2ed400b856a4f4f31bc2672"
          }
        },
        "47d83bfb17bb4ca9b19abdbbae924830": {
          "model_module": "@jupyter-widgets/controls",
          "model_name": "ProgressStyleModel",
          "state": {
            "_view_name": "StyleView",
            "_model_name": "ProgressStyleModel",
            "description_width": "initial",
            "_view_module": "@jupyter-widgets/base",
            "_model_module_version": "1.5.0",
            "_view_count": null,
            "_view_module_version": "1.2.0",
            "bar_color": null,
            "_model_module": "@jupyter-widgets/controls"
          }
        },
        "114da4e04cec40cd8982b4d8edebadcf": {
          "model_module": "@jupyter-widgets/base",
          "model_name": "LayoutModel",
          "state": {
            "_view_name": "LayoutView",
            "grid_template_rows": null,
            "right": null,
            "justify_content": null,
            "_view_module": "@jupyter-widgets/base",
            "overflow": null,
            "_model_module_version": "1.2.0",
            "_view_count": null,
            "flex_flow": null,
            "width": null,
            "min_width": null,
            "border": null,
            "align_items": null,
            "bottom": null,
            "_model_module": "@jupyter-widgets/base",
            "top": null,
            "grid_column": null,
            "overflow_y": null,
            "overflow_x": null,
            "grid_auto_flow": null,
            "grid_area": null,
            "grid_template_columns": null,
            "flex": null,
            "_model_name": "LayoutModel",
            "justify_items": null,
            "grid_row": null,
            "max_height": null,
            "align_content": null,
            "visibility": null,
            "align_self": null,
            "height": null,
            "min_height": null,
            "padding": null,
            "grid_auto_rows": null,
            "grid_gap": null,
            "max_width": null,
            "order": null,
            "_view_module_version": "1.2.0",
            "grid_template_areas": null,
            "object_position": null,
            "object_fit": null,
            "grid_auto_columns": null,
            "margin": null,
            "display": null,
            "left": null
          }
        },
        "ce66493a3b5746019d483f1c89350fe3": {
          "model_module": "@jupyter-widgets/controls",
          "model_name": "DescriptionStyleModel",
          "state": {
            "_view_name": "StyleView",
            "_model_name": "DescriptionStyleModel",
            "description_width": "",
            "_view_module": "@jupyter-widgets/base",
            "_model_module_version": "1.5.0",
            "_view_count": null,
            "_view_module_version": "1.2.0",
            "_model_module": "@jupyter-widgets/controls"
          }
        },
        "1eee5345b2ed400b856a4f4f31bc2672": {
          "model_module": "@jupyter-widgets/base",
          "model_name": "LayoutModel",
          "state": {
            "_view_name": "LayoutView",
            "grid_template_rows": null,
            "right": null,
            "justify_content": null,
            "_view_module": "@jupyter-widgets/base",
            "overflow": null,
            "_model_module_version": "1.2.0",
            "_view_count": null,
            "flex_flow": null,
            "width": null,
            "min_width": null,
            "border": null,
            "align_items": null,
            "bottom": null,
            "_model_module": "@jupyter-widgets/base",
            "top": null,
            "grid_column": null,
            "overflow_y": null,
            "overflow_x": null,
            "grid_auto_flow": null,
            "grid_area": null,
            "grid_template_columns": null,
            "flex": null,
            "_model_name": "LayoutModel",
            "justify_items": null,
            "grid_row": null,
            "max_height": null,
            "align_content": null,
            "visibility": null,
            "align_self": null,
            "height": null,
            "min_height": null,
            "padding": null,
            "grid_auto_rows": null,
            "grid_gap": null,
            "max_width": null,
            "order": null,
            "_view_module_version": "1.2.0",
            "grid_template_areas": null,
            "object_position": null,
            "object_fit": null,
            "grid_auto_columns": null,
            "margin": null,
            "display": null,
            "left": null
          }
        },
        "4d34640f38734adeac9104a70203eae7": {
          "model_module": "@jupyter-widgets/controls",
          "model_name": "HBoxModel",
          "state": {
            "_view_name": "HBoxView",
            "_dom_classes": [],
            "_model_name": "HBoxModel",
            "_view_module": "@jupyter-widgets/controls",
            "_model_module_version": "1.5.0",
            "_view_count": null,
            "_view_module_version": "1.5.0",
            "box_style": "",
            "layout": "IPY_MODEL_039986d39c924269abd71c24b95e76ad",
            "_model_module": "@jupyter-widgets/controls",
            "children": [
              "IPY_MODEL_ab9290540f214c30928465d246b3fd21",
              "IPY_MODEL_c97bf3395a464493afa82eea45b711d3"
            ]
          }
        },
        "039986d39c924269abd71c24b95e76ad": {
          "model_module": "@jupyter-widgets/base",
          "model_name": "LayoutModel",
          "state": {
            "_view_name": "LayoutView",
            "grid_template_rows": null,
            "right": null,
            "justify_content": null,
            "_view_module": "@jupyter-widgets/base",
            "overflow": null,
            "_model_module_version": "1.2.0",
            "_view_count": null,
            "flex_flow": null,
            "width": null,
            "min_width": null,
            "border": null,
            "align_items": null,
            "bottom": null,
            "_model_module": "@jupyter-widgets/base",
            "top": null,
            "grid_column": null,
            "overflow_y": null,
            "overflow_x": null,
            "grid_auto_flow": null,
            "grid_area": null,
            "grid_template_columns": null,
            "flex": null,
            "_model_name": "LayoutModel",
            "justify_items": null,
            "grid_row": null,
            "max_height": null,
            "align_content": null,
            "visibility": null,
            "align_self": null,
            "height": null,
            "min_height": null,
            "padding": null,
            "grid_auto_rows": null,
            "grid_gap": null,
            "max_width": null,
            "order": null,
            "_view_module_version": "1.2.0",
            "grid_template_areas": null,
            "object_position": null,
            "object_fit": null,
            "grid_auto_columns": null,
            "margin": null,
            "display": null,
            "left": null
          }
        },
        "ab9290540f214c30928465d246b3fd21": {
          "model_module": "@jupyter-widgets/controls",
          "model_name": "FloatProgressModel",
          "state": {
            "_view_name": "ProgressView",
            "style": "IPY_MODEL_9d4ffc63493742038997bed5c4e6215b",
            "_dom_classes": [],
            "description": "",
            "_model_name": "FloatProgressModel",
            "bar_style": "success",
            "max": 1,
            "_view_module": "@jupyter-widgets/controls",
            "_model_module_version": "1.5.0",
            "value": 1,
            "_view_count": null,
            "_view_module_version": "1.5.0",
            "orientation": "horizontal",
            "min": 0,
            "description_tooltip": null,
            "_model_module": "@jupyter-widgets/controls",
            "layout": "IPY_MODEL_2bd5af0033df4f13a7b27db9be5e9e61"
          }
        },
        "c97bf3395a464493afa82eea45b711d3": {
          "model_module": "@jupyter-widgets/controls",
          "model_name": "HTMLModel",
          "state": {
            "_view_name": "HTMLView",
            "style": "IPY_MODEL_8c0b491a6cb64f079970446d50a4cdd3",
            "_dom_classes": [],
            "description": "",
            "_model_name": "HTMLModel",
            "placeholder": "​",
            "_view_module": "@jupyter-widgets/controls",
            "_model_module_version": "1.5.0",
            "value": " 8192/? [00:00&lt;00:00, 13215.18it/s]",
            "_view_count": null,
            "_view_module_version": "1.5.0",
            "description_tooltip": null,
            "_model_module": "@jupyter-widgets/controls",
            "layout": "IPY_MODEL_bf6cbfaa7b4349ed95e45ab25589d0f7"
          }
        },
        "9d4ffc63493742038997bed5c4e6215b": {
          "model_module": "@jupyter-widgets/controls",
          "model_name": "ProgressStyleModel",
          "state": {
            "_view_name": "StyleView",
            "_model_name": "ProgressStyleModel",
            "description_width": "initial",
            "_view_module": "@jupyter-widgets/base",
            "_model_module_version": "1.5.0",
            "_view_count": null,
            "_view_module_version": "1.2.0",
            "bar_color": null,
            "_model_module": "@jupyter-widgets/controls"
          }
        },
        "2bd5af0033df4f13a7b27db9be5e9e61": {
          "model_module": "@jupyter-widgets/base",
          "model_name": "LayoutModel",
          "state": {
            "_view_name": "LayoutView",
            "grid_template_rows": null,
            "right": null,
            "justify_content": null,
            "_view_module": "@jupyter-widgets/base",
            "overflow": null,
            "_model_module_version": "1.2.0",
            "_view_count": null,
            "flex_flow": null,
            "width": null,
            "min_width": null,
            "border": null,
            "align_items": null,
            "bottom": null,
            "_model_module": "@jupyter-widgets/base",
            "top": null,
            "grid_column": null,
            "overflow_y": null,
            "overflow_x": null,
            "grid_auto_flow": null,
            "grid_area": null,
            "grid_template_columns": null,
            "flex": null,
            "_model_name": "LayoutModel",
            "justify_items": null,
            "grid_row": null,
            "max_height": null,
            "align_content": null,
            "visibility": null,
            "align_self": null,
            "height": null,
            "min_height": null,
            "padding": null,
            "grid_auto_rows": null,
            "grid_gap": null,
            "max_width": null,
            "order": null,
            "_view_module_version": "1.2.0",
            "grid_template_areas": null,
            "object_position": null,
            "object_fit": null,
            "grid_auto_columns": null,
            "margin": null,
            "display": null,
            "left": null
          }
        },
        "8c0b491a6cb64f079970446d50a4cdd3": {
          "model_module": "@jupyter-widgets/controls",
          "model_name": "DescriptionStyleModel",
          "state": {
            "_view_name": "StyleView",
            "_model_name": "DescriptionStyleModel",
            "description_width": "",
            "_view_module": "@jupyter-widgets/base",
            "_model_module_version": "1.5.0",
            "_view_count": null,
            "_view_module_version": "1.2.0",
            "_model_module": "@jupyter-widgets/controls"
          }
        },
        "bf6cbfaa7b4349ed95e45ab25589d0f7": {
          "model_module": "@jupyter-widgets/base",
          "model_name": "LayoutModel",
          "state": {
            "_view_name": "LayoutView",
            "grid_template_rows": null,
            "right": null,
            "justify_content": null,
            "_view_module": "@jupyter-widgets/base",
            "overflow": null,
            "_model_module_version": "1.2.0",
            "_view_count": null,
            "flex_flow": null,
            "width": null,
            "min_width": null,
            "border": null,
            "align_items": null,
            "bottom": null,
            "_model_module": "@jupyter-widgets/base",
            "top": null,
            "grid_column": null,
            "overflow_y": null,
            "overflow_x": null,
            "grid_auto_flow": null,
            "grid_area": null,
            "grid_template_columns": null,
            "flex": null,
            "_model_name": "LayoutModel",
            "justify_items": null,
            "grid_row": null,
            "max_height": null,
            "align_content": null,
            "visibility": null,
            "align_self": null,
            "height": null,
            "min_height": null,
            "padding": null,
            "grid_auto_rows": null,
            "grid_gap": null,
            "max_width": null,
            "order": null,
            "_view_module_version": "1.2.0",
            "grid_template_areas": null,
            "object_position": null,
            "object_fit": null,
            "grid_auto_columns": null,
            "margin": null,
            "display": null,
            "left": null
          }
        }
      }
    }
  },
  "cells": [
    {
      "cell_type": "markdown",
      "metadata": {
        "id": "view-in-github",
        "colab_type": "text"
      },
      "source": [
        "<a href=\"https://colab.research.google.com/github/elshamsieva/tpo/blob/article/Untitled0.ipynb\" target=\"_parent\"><img src=\"https://colab.research.google.com/assets/colab-badge.svg\" alt=\"Open In Colab\"/></a>"
      ]
    },
    {
      "cell_type": "markdown",
      "metadata": {
        "id": "zwi4-rHdYPWD"
      },
      "source": [
        "GPU\n"
      ]
    },
    {
      "cell_type": "code",
      "metadata": {
        "id": "xdPGlV8_Ux9V"
      },
      "source": [
        "import time\n",
        "start_time = time.time()\n",
        "import torch\n",
        "import random\n",
        "import numpy as np\n",
        "\n",
        "random.seed(0)\n",
        "np.random.seed(0)\n",
        "torch.manual_seed(0)\n",
        "torch.cuda.manual_seed(0)\n",
        "torch.backends.cudnn.deterministic = True\n"
      ],
      "execution_count": 1,
      "outputs": []
    },
    {
      "cell_type": "code",
      "metadata": {
        "colab": {
          "base_uri": "https://localhost:8080/",
          "height": 403,
          "referenced_widgets": [
            "d072ccc4985a43a6b0a4c619e08d00e5",
            "bdef519264b742e784335827e57ce060",
            "a53f36b112584189844136b64dabe738",
            "be198a7d9b5b449fb0729a5afe6659ce",
            "71579a3648ed4352a45e55b39d8da70e",
            "ce19ca42eb5f4108a014c669975e5d6f",
            "9dca88d30b6445d8ac6c2cdf051ee5ad",
            "2ad2bca30a0b4509afe1a1ed28846d6b",
            "fc51ad70f2bb4f9fb1e2ea6c538d9084",
            "c2a7f915a5784f2994cb6355071917ac",
            "eb533716aa344e8d9f53ffb1d668b60f",
            "9db6e33d3e284f458bffa477f724787d",
            "ecf7c935c34f4f05a61cee8606701593",
            "0b4d898dcf4e46f39b54c2920e812f3f",
            "59fd75904c234889822db54afced8eac",
            "e717f642cba14505898cd41195ed74c3",
            "b2cfff70079c47fb8079b4e7cb51d386",
            "ac0065e15ad54c7c8ed2f37ecb46b634",
            "ddfb14296535444da79c674b992454c7",
            "2e1afda9f1fd4cfaa6406ba3fd95b7da",
            "47d83bfb17bb4ca9b19abdbbae924830",
            "114da4e04cec40cd8982b4d8edebadcf",
            "ce66493a3b5746019d483f1c89350fe3",
            "1eee5345b2ed400b856a4f4f31bc2672",
            "4d34640f38734adeac9104a70203eae7",
            "039986d39c924269abd71c24b95e76ad",
            "ab9290540f214c30928465d246b3fd21",
            "c97bf3395a464493afa82eea45b711d3",
            "9d4ffc63493742038997bed5c4e6215b",
            "2bd5af0033df4f13a7b27db9be5e9e61",
            "8c0b491a6cb64f079970446d50a4cdd3",
            "bf6cbfaa7b4349ed95e45ab25589d0f7"
          ]
        },
        "id": "LSrDwU86U7Ld",
        "outputId": "7dc1fbcb-7c1f-48d2-a0c6-6b7802078993"
      },
      "source": [
        "import torchvision.datasets\n",
        "MNIST_train = torchvision.datasets.MNIST('./', download=True, train=True)\n",
        "MNIST_test = torchvision.datasets.MNIST('./', download=True, train=False)"
      ],
      "execution_count": 2,
      "outputs": [
        {
          "output_type": "stream",
          "text": [
            "Downloading http://yann.lecun.com/exdb/mnist/train-images-idx3-ubyte.gz to ./MNIST/raw/train-images-idx3-ubyte.gz\n"
          ],
          "name": "stdout"
        },
        {
          "output_type": "display_data",
          "data": {
            "application/vnd.jupyter.widget-view+json": {
              "model_id": "d072ccc4985a43a6b0a4c619e08d00e5",
              "version_minor": 0,
              "version_major": 2
            },
            "text/plain": [
              "HBox(children=(FloatProgress(value=1.0, bar_style='info', max=1.0), HTML(value='')))"
            ]
          },
          "metadata": {
            "tags": []
          }
        },
        {
          "output_type": "stream",
          "text": [
            "Extracting ./MNIST/raw/train-images-idx3-ubyte.gz to ./MNIST/raw\n",
            "Downloading http://yann.lecun.com/exdb/mnist/train-labels-idx1-ubyte.gz to ./MNIST/raw/train-labels-idx1-ubyte.gz\n"
          ],
          "name": "stdout"
        },
        {
          "output_type": "display_data",
          "data": {
            "application/vnd.jupyter.widget-view+json": {
              "model_id": "fc51ad70f2bb4f9fb1e2ea6c538d9084",
              "version_minor": 0,
              "version_major": 2
            },
            "text/plain": [
              "HBox(children=(FloatProgress(value=1.0, bar_style='info', max=1.0), HTML(value='')))"
            ]
          },
          "metadata": {
            "tags": []
          }
        },
        {
          "output_type": "stream",
          "text": [
            "Extracting ./MNIST/raw/train-labels-idx1-ubyte.gz to ./MNIST/raw\n",
            "Downloading http://yann.lecun.com/exdb/mnist/t10k-images-idx3-ubyte.gz to ./MNIST/raw/t10k-images-idx3-ubyte.gz\n",
            "\n",
            "\n"
          ],
          "name": "stdout"
        },
        {
          "output_type": "display_data",
          "data": {
            "application/vnd.jupyter.widget-view+json": {
              "model_id": "b2cfff70079c47fb8079b4e7cb51d386",
              "version_minor": 0,
              "version_major": 2
            },
            "text/plain": [
              "HBox(children=(FloatProgress(value=1.0, bar_style='info', max=1.0), HTML(value='')))"
            ]
          },
          "metadata": {
            "tags": []
          }
        },
        {
          "output_type": "stream",
          "text": [
            "Extracting ./MNIST/raw/t10k-images-idx3-ubyte.gz to ./MNIST/raw\n",
            "Downloading http://yann.lecun.com/exdb/mnist/t10k-labels-idx1-ubyte.gz to ./MNIST/raw/t10k-labels-idx1-ubyte.gz\n"
          ],
          "name": "stdout"
        },
        {
          "output_type": "display_data",
          "data": {
            "application/vnd.jupyter.widget-view+json": {
              "model_id": "4d34640f38734adeac9104a70203eae7",
              "version_minor": 0,
              "version_major": 2
            },
            "text/plain": [
              "HBox(children=(FloatProgress(value=1.0, bar_style='info', max=1.0), HTML(value='')))"
            ]
          },
          "metadata": {
            "tags": []
          }
        },
        {
          "output_type": "stream",
          "text": [
            "Extracting ./MNIST/raw/t10k-labels-idx1-ubyte.gz to ./MNIST/raw\n",
            "Processing...\n",
            "Done!\n"
          ],
          "name": "stdout"
        },
        {
          "output_type": "stream",
          "text": [
            "/usr/local/lib/python3.6/dist-packages/torchvision/datasets/mnist.py:480: UserWarning: The given NumPy array is not writeable, and PyTorch does not support non-writeable tensors. This means you can write to the underlying (supposedly non-writeable) NumPy array using the tensor. You may want to copy the array to protect its data or make it writeable before converting it to a tensor. This type of warning will be suppressed for the rest of this program. (Triggered internally at  /pytorch/torch/csrc/utils/tensor_numpy.cpp:141.)\n",
            "  return torch.from_numpy(parsed.astype(m[2], copy=False)).view(*s)\n"
          ],
          "name": "stderr"
        }
      ]
    },
    {
      "cell_type": "code",
      "metadata": {
        "colab": {
          "base_uri": "https://localhost:8080/"
        },
        "id": "ypA1GhU_U9yk",
        "outputId": "b772317e-4d49-4273-b9f5-18098d3f4c2d"
      },
      "source": [
        "X_train = MNIST_train.train_data\n",
        "y_train = MNIST_train.train_labels\n",
        "X_test = MNIST_test.test_data\n",
        "y_test = MNIST_test.test_labels"
      ],
      "execution_count": 3,
      "outputs": [
        {
          "output_type": "stream",
          "text": [
            "/usr/local/lib/python3.6/dist-packages/torchvision/datasets/mnist.py:58: UserWarning: train_data has been renamed data\n",
            "  warnings.warn(\"train_data has been renamed data\")\n",
            "/usr/local/lib/python3.6/dist-packages/torchvision/datasets/mnist.py:48: UserWarning: train_labels has been renamed targets\n",
            "  warnings.warn(\"train_labels has been renamed targets\")\n",
            "/usr/local/lib/python3.6/dist-packages/torchvision/datasets/mnist.py:63: UserWarning: test_data has been renamed data\n",
            "  warnings.warn(\"test_data has been renamed data\")\n",
            "/usr/local/lib/python3.6/dist-packages/torchvision/datasets/mnist.py:53: UserWarning: test_labels has been renamed targets\n",
            "  warnings.warn(\"test_labels has been renamed targets\")\n"
          ],
          "name": "stderr"
        }
      ]
    },
    {
      "cell_type": "code",
      "metadata": {
        "colab": {
          "base_uri": "https://localhost:8080/"
        },
        "id": "-oPNC87GVB9p",
        "outputId": "33844389-6837-48e7-fce5-21cbf40806d9"
      },
      "source": [
        "X_train.dtype, y_train.dtype"
      ],
      "execution_count": 4,
      "outputs": [
        {
          "output_type": "execute_result",
          "data": {
            "text/plain": [
              "(torch.uint8, torch.int64)"
            ]
          },
          "metadata": {
            "tags": []
          },
          "execution_count": 4
        }
      ]
    },
    {
      "cell_type": "code",
      "metadata": {
        "id": "ZrUAm4NCVDt8"
      },
      "source": [
        "X_train = X_train.float()\n",
        "X_test = X_test.float()"
      ],
      "execution_count": 5,
      "outputs": []
    },
    {
      "cell_type": "code",
      "metadata": {
        "colab": {
          "base_uri": "https://localhost:8080/"
        },
        "id": "5Q8N0g35VF0A",
        "outputId": "83d02eb0-0ae6-4cd2-a5b0-a0a42f9c60ec"
      },
      "source": [
        "X_train.shape, X_test.shape"
      ],
      "execution_count": 6,
      "outputs": [
        {
          "output_type": "execute_result",
          "data": {
            "text/plain": [
              "(torch.Size([60000, 28, 28]), torch.Size([10000, 28, 28]))"
            ]
          },
          "metadata": {
            "tags": []
          },
          "execution_count": 6
        }
      ]
    },
    {
      "cell_type": "code",
      "metadata": {
        "colab": {
          "base_uri": "https://localhost:8080/"
        },
        "id": "SCVAn8d3VHYO",
        "outputId": "c25b19a0-1e69-4f3c-8092-d6be7fb52fb2"
      },
      "source": [
        "y_train.shape, y_test.shape"
      ],
      "execution_count": 7,
      "outputs": [
        {
          "output_type": "execute_result",
          "data": {
            "text/plain": [
              "(torch.Size([60000]), torch.Size([10000]))"
            ]
          },
          "metadata": {
            "tags": []
          },
          "execution_count": 7
        }
      ]
    },
    {
      "cell_type": "code",
      "metadata": {
        "colab": {
          "base_uri": "https://localhost:8080/",
          "height": 299
        },
        "id": "4pXpThAEVJMF",
        "outputId": "f1c448a0-42b9-4256-bf96-d073a1411514"
      },
      "source": [
        "import matplotlib.pyplot as plt\n",
        "plt.imshow(X_train[0, :, :])\n",
        "plt.show()\n",
        "print(y_train[0])"
      ],
      "execution_count": 8,
      "outputs": [
        {
          "output_type": "stream",
          "text": [
            "\n"
          ],
          "name": "stdout"
        },
        {
          "output_type": "display_data",
          "data": {
            "image/png": "[encoded data removed]",
            "text/plain": [
              "<Figure size 432x288 with 1 Axes>"
            ]
          },
          "metadata": {
            "tags": [],
            "needs_background": "light"
          }
        },
        {
          "output_type": "stream",
          "text": [
            "tensor(5)\n"
          ],
          "name": "stdout"
        }
      ]
    },
    {
      "cell_type": "code",
      "metadata": {
        "id": "bxYeTAtTVMQv"
      },
      "source": [
        "X_train = X_train.reshape([-1, 28 * 28])\n",
        "X_test = X_test.reshape([-1, 28 * 28])"
      ],
      "execution_count": 9,
      "outputs": []
    },
    {
      "cell_type": "code",
      "metadata": {
        "id": "-Ex7RjUDVON1"
      },
      "source": [
        "class MNISTNet(torch.nn.Module):\n",
        "    def __init__(self, n_hidden_neurons):\n",
        "        super(MNISTNet, self).__init__()\n",
        "        self.fc1 = torch.nn.Linear(28 * 28, n_hidden_neurons)\n",
        "        self.ac1 = torch.nn.Sigmoid()\n",
        "        self.fc2 = torch.nn.Linear(n_hidden_neurons, 10) \n",
        "    \n",
        "    def forward(self, x):\n",
        "        x = self.fc1(x)\n",
        "        x = self.ac1(x)\n",
        "        x = self.fc2(x)\n",
        "        return x\n",
        "    \n",
        "mnist_net = MNISTNet(100)"
      ],
      "execution_count": 10,
      "outputs": []
    },
    {
      "cell_type": "code",
      "metadata": {
        "colab": {
          "base_uri": "https://localhost:8080/"
        },
        "id": "11PQouT8VOx-",
        "outputId": "660bd0c8-596f-4850-d46b-4c87d9de911c"
      },
      "source": [
        "import torch\n",
        "torch.cuda.is_available()"
      ],
      "execution_count": 11,
      "outputs": [
        {
          "output_type": "execute_result",
          "data": {
            "text/plain": [
              "True"
            ]
          },
          "metadata": {
            "tags": []
          },
          "execution_count": 11
        }
      ]
    },
    {
      "cell_type": "code",
      "metadata": {
        "colab": {
          "base_uri": "https://localhost:8080/"
        },
        "id": "GIkfpeYHVQXO",
        "outputId": "2c10089f-ac7e-4ced-9d04-108a9b45f345"
      },
      "source": [
        " !nvidia-smi"
      ],
      "execution_count": 12,
      "outputs": [
        {
          "output_type": "stream",
          "text": [
            "Mon Nov 30 11:03:21 2020       \n",
            "+-----------------------------------------------------------------------------+\n",
            "| NVIDIA-SMI 455.38       Driver Version: 418.67       CUDA Version: 10.1     |\n",
            "|-------------------------------+----------------------+----------------------+\n",
            "| GPU  Name        Persistence-M| Bus-Id        Disp.A | Volatile Uncorr. ECC |\n",
            "| Fan  Temp  Perf  Pwr:Usage/Cap|         Memory-Usage | GPU-Util  Compute M. |\n",
            "|                               |                      |               MIG M. |\n",
            "|===============================+======================+======================|\n",
            "|   0  Tesla K80           Off  | 00000000:00:04.0 Off |                    0 |\n",
            "| N/A   49C    P8    30W / 149W |     11MiB / 11441MiB |      0%      Default |\n",
            "|                               |                      |                 ERR! |\n",
            "+-------------------------------+----------------------+----------------------+\n",
            "                                                                               \n",
            "+-----------------------------------------------------------------------------+\n",
            "| Processes:                                                                  |\n",
            "|  GPU   GI   CI        PID   Type   Process name                  GPU Memory |\n",
            "|        ID   ID                                                   Usage      |\n",
            "|=============================================================================|\n",
            "|  No running processes found                                                 |\n",
            "+-----------------------------------------------------------------------------+\n"
          ],
          "name": "stdout"
        }
      ]
    },
    {
      "cell_type": "code",
      "metadata": {
        "colab": {
          "base_uri": "https://localhost:8080/"
        },
        "id": "Bz-TkOdBVR4B",
        "outputId": "08e885f4-4cba-4b0b-db4b-4eb3b02fc57c"
      },
      "source": [
        "device = torch.device('cuda:0' if torch.cuda.is_available() else 'cpu')\n",
        "mnist_net = mnist_net.to(device)\n",
        "list(mnist_net.parameters())"
      ],
      "execution_count": 13,
      "outputs": [
        {
          "output_type": "execute_result",
          "data": {
            "text/plain": [
              "[Parameter containing:\n",
              " tensor([[-0.0003,  0.0192, -0.0294,  ...,  0.0219,  0.0037,  0.0021],\n",
              "         [-0.0198, -0.0150, -0.0104,  ..., -0.0203, -0.0060, -0.0299],\n",
              "         [-0.0201,  0.0149, -0.0333,  ..., -0.0203,  0.0012,  0.0080],\n",
              "         ...,\n",
              "         [ 0.0221,  0.0258, -0.0088,  ..., -0.0141,  0.0051, -0.0318],\n",
              "         [-0.0217, -0.0136,  0.0185,  ..., -0.0012, -0.0012, -0.0017],\n",
              "         [ 0.0142,  0.0089, -0.0053,  ...,  0.0311, -0.0181,  0.0020]],\n",
              "        device='cuda:0', requires_grad=True), Parameter containing:\n",
              " tensor([-3.5402e-02,  1.8178e-02, -2.1709e-02, -1.1839e-02,  4.8722e-03,\n",
              "         -1.0492e-02, -1.9008e-02,  2.6994e-02, -3.4899e-02,  1.0381e-02,\n",
              "         -3.5228e-02, -5.6381e-03, -2.0134e-02, -3.0264e-02, -1.3289e-02,\n",
              "          2.5346e-02, -1.0797e-02,  2.1568e-03,  4.3630e-03, -2.1916e-02,\n",
              "          2.2670e-02, -1.5766e-02,  3.4906e-02, -2.3063e-02, -6.8216e-03,\n",
              "          2.7051e-02, -1.3991e-02,  9.7218e-03, -9.9075e-04,  1.6625e-03,\n",
              "          2.3455e-02, -2.5294e-02,  4.8024e-06, -2.5339e-02, -1.7412e-02,\n",
              "         -1.6342e-02,  2.6164e-03, -1.8025e-02,  2.5939e-02,  2.3884e-03,\n",
              "          1.1857e-03, -2.0811e-03, -1.4417e-03,  2.2246e-02, -2.7703e-02,\n",
              "          1.9103e-02,  1.7750e-02, -4.5987e-03, -5.7228e-03,  1.1429e-02,\n",
              "         -1.9616e-02,  1.0336e-04,  2.3019e-02, -1.9994e-02,  1.5292e-03,\n",
              "         -3.4574e-02, -2.8799e-02,  1.0611e-02, -1.4141e-02, -2.3886e-02,\n",
              "          2.2307e-02, -3.0040e-02, -2.8897e-02, -9.2013e-03, -3.6146e-03,\n",
              "          3.4074e-03,  7.3265e-03, -1.7886e-02, -1.8164e-02, -1.9736e-02,\n",
              "         -3.0381e-02, -1.5204e-02,  2.4328e-02, -2.2534e-02,  4.2453e-04,\n",
              "          2.7948e-02,  1.3828e-03,  3.3543e-02, -3.3373e-02, -6.0236e-04,\n",
              "          1.1359e-02,  3.2776e-02, -3.6375e-03, -2.7758e-02, -4.0390e-03,\n",
              "         -1.8094e-03, -2.1388e-02,  1.8606e-03, -1.4006e-02, -2.9517e-02,\n",
              "         -1.6692e-02, -7.7352e-03, -1.9986e-02,  1.8643e-02, -2.0421e-02,\n",
              "          1.1466e-02, -2.7346e-02,  2.3264e-03, -3.3796e-02,  1.1720e-02],\n",
              "        device='cuda:0', requires_grad=True), Parameter containing:\n",
              " tensor([[-4.4030e-02, -4.0902e-02, -2.7658e-03, -7.5691e-02,  4.7223e-02,\n",
              "           2.0091e-02,  5.2066e-03,  2.9781e-02,  2.0557e-02, -3.9398e-02,\n",
              "          -4.3418e-02, -4.2620e-02,  2.0538e-02, -6.9487e-02, -1.0267e-03,\n",
              "           6.5385e-02, -2.4658e-03,  8.2882e-02,  5.6582e-02, -9.1259e-02,\n",
              "          -8.1402e-02,  9.4457e-02,  4.5791e-02, -9.5087e-02,  1.7097e-02,\n",
              "           4.3891e-02,  3.8794e-02,  2.8788e-02,  2.2401e-02, -6.5288e-02,\n",
              "           4.3317e-02,  2.0658e-02, -8.5607e-02, -5.5555e-02,  6.7581e-02,\n",
              "          -3.3979e-03,  9.5181e-02,  5.3261e-02, -5.3859e-02,  7.1806e-03,\n",
              "          -8.9716e-02, -5.7855e-02, -9.5984e-02, -8.0224e-02, -3.1562e-03,\n",
              "          -6.7034e-02, -9.0357e-02, -7.6925e-02, -8.4575e-02,  3.1875e-02,\n",
              "          -3.9122e-02,  2.7084e-02, -3.2642e-02, -3.9497e-02, -7.0178e-03,\n",
              "          -1.7398e-02,  5.8693e-02, -5.4878e-02,  4.2710e-02, -7.1184e-02,\n",
              "          -2.8224e-02, -4.4826e-02,  1.3082e-02,  4.7396e-02,  4.2165e-02,\n",
              "          -1.4485e-02,  6.3214e-02, -1.7163e-02, -5.6876e-02,  7.2040e-02,\n",
              "           4.9951e-02,  1.3729e-02,  1.6482e-02,  6.9580e-02, -8.0455e-03,\n",
              "           2.9021e-02,  5.1953e-03, -8.5754e-02, -7.1343e-02, -9.8854e-02,\n",
              "          -1.2864e-02, -8.1402e-02, -8.8800e-02, -7.0611e-02, -8.5149e-02,\n",
              "           2.2577e-02, -1.7917e-02,  3.4979e-02,  3.6967e-02,  2.0696e-03,\n",
              "          -4.5241e-02, -5.2543e-02,  8.7695e-02, -9.6897e-02, -4.1911e-02,\n",
              "           8.3253e-02,  1.9033e-02,  8.5772e-02, -9.1113e-02, -4.6074e-02],\n",
              "         [ 2.8562e-02, -9.7789e-02,  9.9616e-02,  1.0313e-02,  1.8937e-03,\n",
              "          -2.8054e-02,  5.7647e-02,  7.5185e-03, -7.6182e-02,  4.7473e-02,\n",
              "           9.2353e-02,  8.7539e-02,  4.3655e-02, -8.8865e-02,  5.0226e-02,\n",
              "           2.9909e-02, -9.6574e-02, -3.5466e-02, -9.3904e-02, -4.4798e-02,\n",
              "          -3.3621e-02, -6.5826e-02,  3.6287e-02, -3.3913e-02, -8.2384e-02,\n",
              "          -8.0630e-02, -3.6251e-02,  3.2257e-02, -1.7082e-02,  6.7202e-03,\n",
              "           4.9823e-02,  8.7775e-02, -5.6468e-02,  9.9253e-02,  9.1745e-02,\n",
              "           6.8144e-02,  6.4052e-02,  4.7919e-02, -9.1159e-02,  6.4923e-02,\n",
              "           6.1755e-04,  2.4259e-02, -5.2861e-02, -8.0466e-02, -7.4763e-02,\n",
              "          -2.4290e-02,  8.2725e-02, -5.2735e-02, -1.6988e-02,  8.4985e-03,\n",
              "          -6.6479e-02, -6.3317e-02,  2.7013e-02,  7.6525e-02, -9.6293e-02,\n",
              "          -2.3882e-02, -2.4638e-02, -1.5677e-02,  8.6723e-02,  1.1229e-02,\n",
              "          -3.8456e-02, -9.1262e-03, -1.0519e-02, -9.5751e-02, -1.0230e-02,\n",
              "           2.0495e-02,  1.0166e-02,  1.6618e-02, -7.6543e-02, -1.9185e-02,\n",
              "           3.6591e-03, -4.8461e-02, -3.9484e-02,  4.6251e-02,  6.8032e-02,\n",
              "          -6.6524e-02, -1.0022e-02, -4.8116e-02, -9.9494e-02, -7.2708e-02,\n",
              "           4.8695e-02, -5.4311e-02,  5.3059e-02, -5.1349e-02, -5.3362e-02,\n",
              "           5.6112e-04,  5.6536e-02,  7.5848e-02,  8.7638e-02, -2.6691e-02,\n",
              "           5.4360e-02, -9.7876e-02, -2.8115e-03,  7.7884e-03,  7.6152e-03,\n",
              "           2.9289e-02,  5.4671e-02,  6.9147e-02, -2.9804e-03, -5.5532e-02],\n",
              "         [-5.8062e-02, -1.6233e-02,  5.9640e-02,  3.8012e-02, -7.7325e-02,\n",
              "           5.2889e-02,  4.9676e-02, -8.6207e-02,  1.2076e-02, -6.6163e-02,\n",
              "          -8.3880e-02,  1.7198e-02, -3.7479e-02,  8.4232e-02, -5.0198e-02,\n",
              "           2.3431e-02, -2.2310e-02, -6.4360e-02, -2.8851e-02,  3.1953e-02,\n",
              "           3.2718e-02, -1.6766e-02, -9.4292e-02, -1.6340e-02,  4.0565e-02,\n",
              "          -5.5432e-02,  4.2336e-02,  9.1535e-02, -7.2934e-02,  7.0494e-02,\n",
              "          -7.4497e-02,  1.4436e-02, -5.1857e-03,  7.7257e-02,  2.4613e-02,\n",
              "          -2.3095e-02, -4.3948e-03,  1.7421e-02, -3.5985e-02,  1.2784e-02,\n",
              "          -6.0356e-02, -1.7307e-02, -2.0917e-03,  3.3032e-02, -6.1410e-02,\n",
              "           7.9608e-02,  2.7768e-02, -3.4363e-02, -6.1100e-02, -3.1468e-02,\n",
              "          -3.9813e-02,  3.5793e-02,  2.9954e-03,  1.8687e-02, -7.1464e-02,\n",
              "           1.8687e-02,  6.9480e-02,  8.6372e-02, -5.5390e-02,  1.6557e-02,\n",
              "           1.9878e-02,  8.0226e-02, -2.1137e-02,  9.2464e-02, -2.0413e-02,\n",
              "          -9.3492e-02,  9.0216e-02, -9.9643e-03, -4.5676e-02, -7.2762e-02,\n",
              "           9.5185e-02, -3.5671e-02, -5.7421e-02,  9.6054e-02, -1.0582e-02,\n",
              "           3.5247e-02,  4.4829e-04,  6.2995e-02, -7.0383e-02,  5.9155e-02,\n",
              "           9.5140e-02, -6.1451e-02,  7.1062e-02, -3.1055e-02,  6.2909e-02,\n",
              "           9.0056e-02, -5.9558e-02, -6.3497e-02, -7.2795e-02,  6.3794e-02,\n",
              "          -7.1646e-02, -5.9375e-03,  9.2007e-02, -2.3524e-02,  6.7093e-02,\n",
              "          -9.6363e-02,  8.5956e-02, -5.4083e-02,  4.6875e-02, -7.0707e-02],\n",
              "         [-9.9884e-02, -2.0566e-03, -9.2505e-03,  1.2660e-05,  5.7482e-02,\n",
              "           9.8647e-02,  5.9621e-02, -5.6918e-02, -2.3541e-02,  8.5597e-02,\n",
              "           3.2887e-02, -1.2115e-02,  6.3024e-02, -4.1736e-03,  1.5560e-02,\n",
              "          -3.6098e-02, -2.9918e-02,  9.7293e-02, -3.3788e-02,  6.5262e-02,\n",
              "          -6.2560e-03,  8.2679e-02, -3.4145e-02, -4.2508e-02,  9.3023e-02,\n",
              "           1.6028e-02, -7.6950e-02,  6.5384e-02,  6.1429e-02,  7.9440e-02,\n",
              "          -2.2314e-02, -8.0422e-02, -2.0729e-02, -4.6973e-02, -8.5903e-02,\n",
              "           8.3461e-02,  5.4504e-03,  6.4838e-02, -4.3093e-02, -1.4715e-02,\n",
              "           9.2161e-02, -1.6137e-02,  4.7117e-02,  4.8628e-02,  4.7408e-02,\n",
              "          -9.9202e-02, -9.7989e-02,  4.2185e-02,  6.1507e-02,  9.3029e-02,\n",
              "           2.3039e-02, -8.1951e-02,  4.2035e-02,  5.3145e-02,  1.7351e-02,\n",
              "           2.6871e-02,  3.6373e-02, -4.5585e-02, -7.1108e-02, -6.8185e-03,\n",
              "          -8.1368e-02,  4.8340e-02,  1.8260e-02, -7.0928e-02, -3.2509e-02,\n",
              "           3.3479e-02, -8.1458e-02,  7.4082e-03,  7.0904e-02, -8.2055e-02,\n",
              "          -4.5267e-02, -9.7422e-02,  6.2716e-02,  3.1780e-02,  2.6002e-02,\n",
              "           3.5429e-02, -2.8131e-02, -7.5722e-02,  8.6744e-02,  6.9950e-02,\n",
              "          -4.4811e-03, -3.7405e-02,  8.7347e-02,  2.9528e-02,  2.4509e-02,\n",
              "          -7.9858e-02,  1.0490e-03,  8.5361e-02, -6.4963e-03,  8.6767e-02,\n",
              "           1.9172e-03, -4.7197e-02, -9.4302e-02, -1.1154e-04,  4.4796e-02,\n",
              "           9.0297e-02, -4.5391e-02, -8.2952e-03, -8.3752e-04,  1.0406e-02],\n",
              "         [-8.3833e-02, -1.6800e-02, -1.8120e-02,  2.4787e-02,  1.5949e-02,\n",
              "          -3.6587e-02, -4.0931e-02, -2.8362e-02, -6.2916e-02,  9.5074e-04,\n",
              "           3.7527e-02, -7.5627e-02, -9.0116e-02, -4.8229e-02,  4.8008e-02,\n",
              "          -8.3595e-02, -7.4236e-02, -7.7821e-02, -6.1297e-02, -1.0876e-02,\n",
              "          -7.7140e-02,  9.9012e-02, -5.8988e-02,  9.1224e-02,  8.5215e-02,\n",
              "          -6.2058e-02, -9.7728e-02,  6.1797e-02,  8.5920e-02, -4.6782e-02,\n",
              "           4.5797e-02, -3.4127e-02, -2.6734e-02,  5.0654e-02,  8.0230e-02,\n",
              "          -6.8283e-04,  4.4868e-02,  9.9643e-02, -7.7270e-03, -6.9289e-03,\n",
              "           7.8843e-02, -6.2620e-02,  4.6331e-02,  3.5543e-02,  4.4476e-02,\n",
              "           6.4701e-02,  5.5111e-02, -1.3538e-02, -5.7666e-02,  3.1949e-02,\n",
              "          -7.4435e-02, -1.0555e-02, -2.9269e-02,  7.6828e-02,  6.0613e-02,\n",
              "          -1.0246e-02, -7.7053e-02, -8.1615e-02,  7.8583e-02, -3.7298e-02,\n",
              "           9.8287e-02, -8.7990e-02,  8.5202e-02,  7.3779e-02, -7.5497e-02,\n",
              "          -5.0194e-02,  1.7486e-02, -8.1503e-02,  4.3283e-02,  3.1912e-02,\n",
              "           3.3300e-02,  8.4082e-02, -1.5393e-02, -1.0400e-02, -5.7354e-02,\n",
              "           6.4003e-02,  7.5777e-02,  8.7583e-02,  1.0506e-02, -1.0069e-02,\n",
              "           4.6248e-02,  6.8776e-02,  9.1238e-02,  8.2242e-02, -6.3215e-02,\n",
              "          -2.2493e-03,  5.6948e-02, -1.4380e-02,  9.5676e-02,  9.8546e-02,\n",
              "           3.5439e-02, -6.1159e-02, -3.4391e-02,  4.1154e-02, -4.9081e-02,\n",
              "          -8.1823e-02, -1.6583e-02, -7.9054e-02, -8.9295e-02,  6.5986e-02],\n",
              "         [-4.6052e-02, -5.7329e-02, -6.9434e-02,  8.0967e-02, -1.9942e-02,\n",
              "          -5.2907e-02,  3.7663e-03, -6.5540e-02,  7.4881e-03, -7.2165e-02,\n",
              "          -5.0907e-03,  5.9958e-02,  7.3126e-02,  7.8212e-02,  9.5219e-02,\n",
              "          -5.8539e-02, -5.7033e-02,  5.0800e-02,  2.9198e-02,  5.7162e-02,\n",
              "           5.8643e-02,  2.4181e-02,  9.6798e-02, -7.2006e-02, -4.8288e-02,\n",
              "           9.8164e-02, -1.4304e-02,  8.4005e-02, -4.1074e-02,  4.0151e-03,\n",
              "          -2.9527e-02,  8.0418e-02,  4.4058e-02,  1.3534e-02,  2.5140e-02,\n",
              "           2.1768e-02, -9.8031e-02, -6.6325e-02, -3.6608e-02,  2.1682e-02,\n",
              "           8.6108e-02, -5.5307e-02,  2.1730e-02,  2.3178e-02, -2.4123e-02,\n",
              "          -6.6951e-03, -7.9058e-02,  8.1677e-02, -1.8746e-02, -3.1030e-02,\n",
              "           1.0893e-02, -5.3572e-02, -6.3206e-02, -2.8532e-02,  4.3749e-02,\n",
              "          -5.8695e-02,  9.5919e-03, -9.0220e-03,  6.0012e-02, -5.8548e-03,\n",
              "          -1.3501e-02,  7.4022e-02, -9.2908e-02, -1.4278e-02,  5.1928e-02,\n",
              "          -9.1766e-02,  7.3883e-02,  9.7954e-02,  2.0665e-02, -4.6826e-02,\n",
              "           3.8851e-02, -3.2427e-02, -2.0750e-02, -6.1963e-02, -6.8082e-02,\n",
              "           5.1893e-02,  7.8080e-02,  2.3663e-02,  9.9957e-02, -1.9962e-02,\n",
              "          -8.7717e-02, -5.7643e-02,  6.9828e-02,  1.4412e-02,  4.3624e-02,\n",
              "          -6.7853e-02, -8.7193e-02, -7.1548e-02, -5.8304e-02,  9.1487e-02,\n",
              "           8.0201e-02, -3.5304e-02,  5.6775e-02,  8.3264e-02,  6.6919e-02,\n",
              "           3.7993e-02,  5.4683e-03, -3.5126e-02,  6.6001e-03,  2.9616e-02],\n",
              "         [ 9.1658e-02,  9.4709e-02,  1.5736e-02,  2.2302e-02,  4.6048e-02,\n",
              "           1.2184e-02,  4.9628e-03,  7.0882e-02, -1.3095e-03,  6.4723e-02,\n",
              "           7.9142e-02,  1.6253e-02, -1.9196e-02,  4.3337e-02, -5.8832e-02,\n",
              "          -3.2178e-02, -6.3990e-02,  4.7409e-02, -2.7614e-02,  1.7234e-02,\n",
              "          -1.0813e-02, -1.4974e-02,  2.3524e-02,  8.9089e-02, -3.2056e-02,\n",
              "           7.2992e-02, -6.9731e-02,  8.7564e-02, -8.0852e-02, -6.2523e-02,\n",
              "          -7.4421e-02,  4.1387e-02, -7.6536e-02, -4.0783e-02, -6.2073e-02,\n",
              "          -1.3144e-03,  7.2717e-02,  8.8049e-02,  9.7246e-03,  7.4112e-02,\n",
              "          -8.7396e-02,  2.9497e-02,  5.1279e-02, -7.4738e-02, -3.1917e-02,\n",
              "           4.6675e-02, -5.1561e-02, -6.6640e-03,  6.4942e-03,  7.4746e-02,\n",
              "           9.1743e-02,  2.8841e-02, -1.4908e-02, -7.4951e-02,  6.2403e-03,\n",
              "           2.7113e-02, -5.0571e-02,  1.4710e-02,  6.0440e-02, -7.6236e-02,\n",
              "           9.0964e-02,  4.2240e-02, -6.1111e-03, -2.5226e-02,  3.2602e-02,\n",
              "          -7.5661e-02,  8.3860e-03, -4.4427e-02, -6.7322e-02,  4.4364e-02,\n",
              "           5.9016e-02,  8.1961e-02,  3.3115e-02, -4.0448e-02, -7.3765e-02,\n",
              "           9.2396e-02, -4.5676e-02,  9.7899e-02,  3.1652e-02, -9.1355e-03,\n",
              "          -7.1571e-02, -1.3682e-02,  7.2462e-02, -4.6750e-02,  6.0865e-02,\n",
              "          -4.6380e-02, -8.9269e-02,  6.8284e-02,  3.6599e-02, -4.0685e-02,\n",
              "           5.8471e-02,  7.1903e-02,  4.0558e-02,  8.0305e-02,  8.1107e-02,\n",
              "          -8.6739e-02, -9.7542e-02,  6.3673e-02, -9.2271e-02, -1.9315e-02],\n",
              "         [-4.6198e-02, -3.2290e-02, -3.0544e-02, -9.5010e-02,  3.8223e-02,\n",
              "           5.5294e-02,  4.9098e-02,  7.6608e-02, -8.0285e-02,  6.2018e-02,\n",
              "          -5.3086e-02,  3.0058e-02, -2.2902e-03, -6.1048e-03, -4.9441e-02,\n",
              "          -5.9305e-02,  3.3375e-03,  3.5207e-02,  6.2350e-02, -4.4059e-02,\n",
              "          -8.4517e-04, -8.6304e-02,  5.4937e-02, -6.0786e-02,  3.9300e-02,\n",
              "          -7.0746e-03,  7.5575e-03,  1.6690e-02,  9.7747e-02, -9.1711e-02,\n",
              "           6.9647e-02, -4.7292e-02,  6.8328e-02,  7.7011e-02, -1.1921e-02,\n",
              "           8.2020e-02,  8.4751e-02,  3.6825e-03,  9.3275e-02, -2.9666e-02,\n",
              "          -9.1267e-02, -8.1389e-02,  3.3100e-02,  6.4213e-02,  8.2357e-02,\n",
              "           5.5568e-02,  6.8318e-02, -1.3603e-02,  2.9641e-04,  8.3104e-02,\n",
              "          -2.4244e-02,  4.1599e-02, -2.7592e-02, -4.9556e-02,  5.1370e-02,\n",
              "          -9.9622e-02,  4.8358e-02, -3.7282e-04, -7.3551e-03, -6.0729e-02,\n",
              "           9.5725e-02,  1.6859e-02,  1.2552e-02,  8.2822e-02, -5.8674e-03,\n",
              "           6.0212e-02,  9.1049e-02, -4.2251e-02,  9.4969e-04,  9.7892e-02,\n",
              "          -5.9672e-02,  6.4663e-02, -6.1649e-02, -7.8423e-02, -9.9728e-02,\n",
              "           1.5248e-02,  7.8801e-03,  4.2608e-03,  1.0335e-02, -9.8835e-02,\n",
              "          -2.1486e-02, -5.8640e-03, -5.1451e-02,  2.8623e-02,  7.4678e-02,\n",
              "           5.7444e-02, -9.5587e-04,  9.2813e-02, -8.9171e-02,  6.2987e-02,\n",
              "           4.5349e-02,  3.2147e-02,  6.9089e-02,  9.8212e-02,  9.4147e-02,\n",
              "          -9.4832e-02,  8.1579e-02, -7.1328e-02, -1.0579e-02,  2.5450e-02],\n",
              "         [-2.0891e-02, -6.0200e-03,  2.5615e-02, -1.7990e-02, -4.4823e-02,\n",
              "           2.3133e-02,  2.7158e-02, -2.7425e-02, -8.8589e-02,  5.5512e-03,\n",
              "          -6.2966e-02,  8.8285e-02,  1.2188e-02,  3.6578e-02,  6.4057e-02,\n",
              "           2.6910e-02,  8.8557e-02, -4.2429e-02, -4.2300e-02, -8.4609e-02,\n",
              "           7.7359e-02,  4.4733e-02, -5.5614e-03,  2.1624e-02,  4.7043e-02,\n",
              "          -8.8673e-02,  1.0857e-03, -9.5129e-02,  6.8912e-02, -2.1803e-02,\n",
              "           2.6299e-02, -5.5845e-02,  2.7732e-02, -1.0555e-02, -4.8043e-02,\n",
              "          -5.9004e-02,  7.6596e-02, -6.0483e-02, -7.3551e-02, -6.5031e-02,\n",
              "           2.0799e-02, -7.2074e-02, -4.2507e-02,  5.0316e-02,  7.6159e-02,\n",
              "           3.6825e-02,  1.6714e-02, -9.0212e-02,  1.8672e-02,  2.7955e-02,\n",
              "          -1.2733e-02, -4.5933e-02,  5.4120e-02, -1.3092e-02, -8.3096e-02,\n",
              "           7.8286e-02,  8.5046e-02,  8.6231e-02,  2.0992e-02,  1.5767e-02,\n",
              "          -3.1872e-02,  5.8948e-02, -1.4357e-02,  5.2033e-02,  3.7963e-02,\n",
              "           5.1407e-02, -7.3431e-02,  5.3929e-02,  2.0105e-02,  9.9624e-02,\n",
              "          -1.7876e-02,  6.0013e-02, -5.3841e-02, -3.8886e-02, -3.2458e-02,\n",
              "           2.0245e-02, -1.2786e-02, -7.3796e-02, -5.1257e-02, -9.3105e-02,\n",
              "           5.3524e-02,  2.9062e-02,  6.2409e-02,  1.5023e-02,  5.3282e-02,\n",
              "           6.6994e-02,  5.3158e-02, -8.6123e-02, -8.5278e-02,  6.5582e-02,\n",
              "          -4.3465e-02,  4.4255e-02, -4.5839e-02,  5.9404e-02,  6.6008e-02,\n",
              "           6.7964e-02, -2.4449e-02, -7.3628e-02,  8.2040e-02,  7.7660e-02],\n",
              "         [-9.8090e-02,  2.3876e-02, -8.2799e-02, -7.0161e-02,  1.3677e-02,\n",
              "           6.1290e-02, -4.8976e-04, -2.8927e-03,  6.0759e-02, -8.4032e-03,\n",
              "          -3.1913e-02,  7.0797e-02,  8.9694e-02,  7.0325e-02,  6.5696e-02,\n",
              "          -1.5075e-02, -6.6608e-02,  7.0226e-02, -9.6515e-02, -1.0970e-02,\n",
              "          -7.4666e-02,  2.0471e-03,  7.9205e-02, -5.1160e-02, -8.5243e-02,\n",
              "          -8.7755e-02, -4.8625e-02,  6.3410e-02,  4.8973e-02, -3.0467e-02,\n",
              "           5.1149e-02, -6.8542e-04, -5.4671e-02,  7.0579e-02, -1.1052e-02,\n",
              "           3.7288e-02,  1.3069e-03,  6.5359e-02, -4.5996e-02,  1.3190e-03,\n",
              "           7.8334e-02, -3.5620e-02, -9.9353e-02, -3.0465e-03, -6.0722e-02,\n",
              "          -9.8107e-02, -3.9692e-02,  9.0779e-02, -2.8267e-02, -9.7357e-02,\n",
              "           6.7107e-02,  1.4171e-02,  6.0091e-02, -4.2909e-03,  6.2227e-02,\n",
              "           2.0596e-02, -9.5249e-03,  7.1651e-02, -9.0290e-02,  5.0313e-02,\n",
              "           7.2475e-02, -7.2112e-02,  8.7810e-02, -8.1037e-02, -2.8049e-02,\n",
              "           7.4033e-02, -6.5308e-02,  9.4824e-02, -7.8563e-03,  2.1731e-02,\n",
              "           5.2775e-02,  3.0641e-03, -5.3218e-02,  6.5832e-02,  6.4242e-03,\n",
              "           7.5386e-02,  9.0389e-02,  3.9998e-02, -7.2098e-03,  4.1883e-02,\n",
              "          -6.8180e-03, -3.5155e-02,  8.9635e-02, -3.1142e-02,  5.8973e-02,\n",
              "           9.9291e-02, -6.8097e-02, -7.9742e-02, -6.8372e-02,  7.2811e-02,\n",
              "           9.2736e-02, -5.7095e-02,  3.8777e-02, -2.4662e-03, -4.7575e-02,\n",
              "          -4.8032e-02, -2.5639e-02,  7.4412e-02, -8.6548e-02, -4.4684e-02]],\n",
              "        device='cuda:0', requires_grad=True), Parameter containing:\n",
              " tensor([ 0.0935, -0.0211, -0.0509,  0.0983,  0.0549,  0.0581, -0.0937, -0.0555,\n",
              "          0.0050, -0.0360], device='cuda:0', requires_grad=True)]"
            ]
          },
          "metadata": {
            "tags": []
          },
          "execution_count": 13
        }
      ]
    },
    {
      "cell_type": "code",
      "metadata": {
        "id": "6hwHgOX0VTlV"
      },
      "source": [
        "loss = torch.nn.CrossEntropyLoss()\n",
        "optimizer = torch.optim.Adam(mnist_net.parameters(), lr=1.0e-3)"
      ],
      "execution_count": 14,
      "outputs": []
    },
    {
      "cell_type": "code",
      "metadata": {
        "colab": {
          "base_uri": "https://localhost:8080/"
        },
        "id": "Up1H4kzFVVaf",
        "outputId": "b91fea1e-eb15-4961-e918-4b193dc6f15a"
      },
      "source": [
        "batch_size = 500\n",
        "\n",
        "test_accuracy_history = []\n",
        "test_loss_history = []\n",
        "train_accuracy_history = []\n",
        "train_loss_history = []\n",
        "\n",
        "X_test = X_test.to(device)\n",
        "y_test = y_test.to(device)\n",
        "\n",
        "for epoch in range(100):\n",
        "    order = np.random.permutation(len(X_train))\n",
        "    train_preds = torch.zeros([X_train.shape[0], 10], dtype=torch.float)\n",
        "    train_batch_loss_history = []\n",
        "\n",
        "    for start_index in range(0, len(X_train), batch_size):\n",
        "        optimizer.zero_grad()\n",
        "        \n",
        "        batch_indexes = order[start_index:start_index+batch_size]\n",
        "        \n",
        "        X_batch = X_train[batch_indexes].to(device)\n",
        "        y_batch = y_train[batch_indexes].to(device)\n",
        "        \n",
        "        preds = mnist_net.forward(X_batch) \n",
        "        \n",
        "        loss_value = loss(preds, y_batch)\n",
        "        loss_value.backward()\n",
        "        \n",
        "        train_batch_loss_history.append(loss_value.tolist())\n",
        "        \n",
        "        train_preds[batch_indexes] = preds.cpu()\n",
        "        optimizer.step()\n",
        "\n",
        "    test_preds = mnist_net.forward(X_test)\n",
        "    test_loss = loss(test_preds, y_test)\n",
        "    test_loss_history.append(test_loss)\n",
        "    \n",
        "    accuracy = (test_preds.argmax(dim=1) == y_test).float().mean()\n",
        "    test_accuracy_history.append(accuracy)\n",
        "    \n",
        "    train_loss = np.mean(train_batch_loss_history)\n",
        "    train_loss_history.append(train_loss)\n",
        "    \n",
        "    accuracy2 = (train_preds.argmax(dim=1) == y_train).float().mean()\n",
        "    train_accuracy_history.append(accuracy2)\n",
        "\n",
        "    print('{:4d} tr_loss:{:.4f} val_loss:{:.4f} tr_acc:{:.4f} val_acc:{:.4f}'.format(\n",
        "        epoch,\n",
        "        train_loss,\n",
        "        test_loss,\n",
        "        accuracy2.tolist(),\n",
        "        accuracy.tolist()))"
      ],
      "execution_count": 15,
      "outputs": [
        {
          "output_type": "stream",
          "text": [
            "   0 tr_loss:0.5811 val_loss:0.3393 tr_acc:0.8632 val_acc:0.9103\n",
            "   1 tr_loss:0.3324 val_loss:0.3049 tr_acc:0.9081 val_acc:0.9156\n",
            "   2 tr_loss:0.3010 val_loss:0.2863 tr_acc:0.9140 val_acc:0.9165\n",
            "   3 tr_loss:0.2805 val_loss:0.2719 tr_acc:0.9169 val_acc:0.9223\n",
            "   4 tr_loss:0.2620 val_loss:0.2623 tr_acc:0.9248 val_acc:0.9230\n",
            "   5 tr_loss:0.2613 val_loss:0.2427 tr_acc:0.9233 val_acc:0.9294\n",
            "   6 tr_loss:0.2459 val_loss:0.2442 tr_acc:0.9268 val_acc:0.9300\n",
            "   7 tr_loss:0.2445 val_loss:0.2422 tr_acc:0.9268 val_acc:0.9277\n",
            "   8 tr_loss:0.2351 val_loss:0.2295 tr_acc:0.9294 val_acc:0.9314\n",
            "   9 tr_loss:0.2276 val_loss:0.2246 tr_acc:0.9316 val_acc:0.9316\n",
            "  10 tr_loss:0.2267 val_loss:0.2345 tr_acc:0.9315 val_acc:0.9296\n",
            "  11 tr_loss:0.2265 val_loss:0.2246 tr_acc:0.9323 val_acc:0.9318\n",
            "  12 tr_loss:0.2205 val_loss:0.2177 tr_acc:0.9342 val_acc:0.9345\n",
            "  13 tr_loss:0.2156 val_loss:0.2199 tr_acc:0.9360 val_acc:0.9348\n",
            "  14 tr_loss:0.2148 val_loss:0.2169 tr_acc:0.9362 val_acc:0.9350\n",
            "  15 tr_loss:0.2113 val_loss:0.2088 tr_acc:0.9355 val_acc:0.9367\n",
            "  16 tr_loss:0.2024 val_loss:0.2076 tr_acc:0.9387 val_acc:0.9358\n",
            "  17 tr_loss:0.2009 val_loss:0.2196 tr_acc:0.9399 val_acc:0.9319\n",
            "  18 tr_loss:0.2017 val_loss:0.2094 tr_acc:0.9384 val_acc:0.9369\n",
            "  19 tr_loss:0.1925 val_loss:0.1983 tr_acc:0.9419 val_acc:0.9397\n",
            "  20 tr_loss:0.1892 val_loss:0.1979 tr_acc:0.9415 val_acc:0.9420\n",
            "  21 tr_loss:0.1878 val_loss:0.2027 tr_acc:0.9432 val_acc:0.9393\n",
            "  22 tr_loss:0.1888 val_loss:0.1906 tr_acc:0.9425 val_acc:0.9449\n",
            "  23 tr_loss:0.1880 val_loss:0.2001 tr_acc:0.9437 val_acc:0.9404\n",
            "  24 tr_loss:0.1841 val_loss:0.1925 tr_acc:0.9451 val_acc:0.9423\n",
            "  25 tr_loss:0.1812 val_loss:0.1860 tr_acc:0.9453 val_acc:0.9430\n",
            "  26 tr_loss:0.1817 val_loss:0.1892 tr_acc:0.9442 val_acc:0.9406\n",
            "  27 tr_loss:0.1748 val_loss:0.1971 tr_acc:0.9474 val_acc:0.9414\n",
            "  28 tr_loss:0.1813 val_loss:0.1812 tr_acc:0.9442 val_acc:0.9456\n",
            "  29 tr_loss:0.1739 val_loss:0.1884 tr_acc:0.9468 val_acc:0.9433\n",
            "  30 tr_loss:0.1795 val_loss:0.1897 tr_acc:0.9466 val_acc:0.9430\n",
            "  31 tr_loss:0.1761 val_loss:0.1809 tr_acc:0.9462 val_acc:0.9454\n",
            "  32 tr_loss:0.1749 val_loss:0.1898 tr_acc:0.9465 val_acc:0.9439\n",
            "  33 tr_loss:0.1769 val_loss:0.1966 tr_acc:0.9452 val_acc:0.9397\n",
            "  34 tr_loss:0.1712 val_loss:0.1823 tr_acc:0.9475 val_acc:0.9460\n",
            "  35 tr_loss:0.1729 val_loss:0.1888 tr_acc:0.9467 val_acc:0.9441\n",
            "  36 tr_loss:0.1740 val_loss:0.1885 tr_acc:0.9471 val_acc:0.9447\n",
            "  37 tr_loss:0.1631 val_loss:0.1888 tr_acc:0.9492 val_acc:0.9430\n",
            "  38 tr_loss:0.1688 val_loss:0.1726 tr_acc:0.9479 val_acc:0.9493\n",
            "  39 tr_loss:0.1591 val_loss:0.1707 tr_acc:0.9505 val_acc:0.9469\n",
            "  40 tr_loss:0.1614 val_loss:0.1815 tr_acc:0.9513 val_acc:0.9443\n",
            "  41 tr_loss:0.1633 val_loss:0.1775 tr_acc:0.9497 val_acc:0.9466\n",
            "  42 tr_loss:0.1629 val_loss:0.1742 tr_acc:0.9504 val_acc:0.9492\n",
            "  43 tr_loss:0.1592 val_loss:0.1698 tr_acc:0.9507 val_acc:0.9478\n",
            "  44 tr_loss:0.1609 val_loss:0.1823 tr_acc:0.9502 val_acc:0.9435\n",
            "  45 tr_loss:0.1552 val_loss:0.1845 tr_acc:0.9532 val_acc:0.9451\n",
            "  46 tr_loss:0.1487 val_loss:0.1712 tr_acc:0.9546 val_acc:0.9481\n",
            "  47 tr_loss:0.1513 val_loss:0.1759 tr_acc:0.9542 val_acc:0.9457\n",
            "  48 tr_loss:0.1556 val_loss:0.1760 tr_acc:0.9524 val_acc:0.9445\n",
            "  49 tr_loss:0.1552 val_loss:0.1735 tr_acc:0.9527 val_acc:0.9464\n",
            "  50 tr_loss:0.1489 val_loss:0.1703 tr_acc:0.9542 val_acc:0.9466\n",
            "  51 tr_loss:0.1483 val_loss:0.1708 tr_acc:0.9552 val_acc:0.9476\n",
            "  52 tr_loss:0.1416 val_loss:0.1694 tr_acc:0.9565 val_acc:0.9501\n",
            "  53 tr_loss:0.1445 val_loss:0.1718 tr_acc:0.9559 val_acc:0.9492\n",
            "  54 tr_loss:0.1458 val_loss:0.1708 tr_acc:0.9554 val_acc:0.9490\n",
            "  55 tr_loss:0.1426 val_loss:0.1682 tr_acc:0.9566 val_acc:0.9507\n",
            "  56 tr_loss:0.1452 val_loss:0.1625 tr_acc:0.9552 val_acc:0.9504\n",
            "  57 tr_loss:0.1466 val_loss:0.1586 tr_acc:0.9549 val_acc:0.9521\n",
            "  58 tr_loss:0.1440 val_loss:0.1733 tr_acc:0.9556 val_acc:0.9485\n",
            "  59 tr_loss:0.1438 val_loss:0.1653 tr_acc:0.9562 val_acc:0.9511\n",
            "  60 tr_loss:0.1371 val_loss:0.1658 tr_acc:0.9585 val_acc:0.9523\n",
            "  61 tr_loss:0.1450 val_loss:0.1759 tr_acc:0.9551 val_acc:0.9452\n",
            "  62 tr_loss:0.1437 val_loss:0.1607 tr_acc:0.9546 val_acc:0.9513\n",
            "  63 tr_loss:0.1382 val_loss:0.1467 tr_acc:0.9572 val_acc:0.9563\n",
            "  64 tr_loss:0.1363 val_loss:0.1579 tr_acc:0.9581 val_acc:0.9521\n",
            "  65 tr_loss:0.1385 val_loss:0.1530 tr_acc:0.9569 val_acc:0.9537\n",
            "  66 tr_loss:0.1309 val_loss:0.1568 tr_acc:0.9585 val_acc:0.9544\n",
            "  67 tr_loss:0.1296 val_loss:0.1586 tr_acc:0.9599 val_acc:0.9548\n",
            "  68 tr_loss:0.1345 val_loss:0.1589 tr_acc:0.9579 val_acc:0.9529\n",
            "  69 tr_loss:0.1423 val_loss:0.1656 tr_acc:0.9560 val_acc:0.9507\n",
            "  70 tr_loss:0.1354 val_loss:0.1541 tr_acc:0.9582 val_acc:0.9545\n",
            "  71 tr_loss:0.1284 val_loss:0.1516 tr_acc:0.9606 val_acc:0.9554\n",
            "  72 tr_loss:0.1253 val_loss:0.1517 tr_acc:0.9618 val_acc:0.9549\n",
            "  73 tr_loss:0.1289 val_loss:0.1562 tr_acc:0.9610 val_acc:0.9547\n",
            "  74 tr_loss:0.1290 val_loss:0.1634 tr_acc:0.9606 val_acc:0.9523\n",
            "  75 tr_loss:0.1363 val_loss:0.1589 tr_acc:0.9583 val_acc:0.9535\n",
            "  76 tr_loss:0.1355 val_loss:0.1502 tr_acc:0.9581 val_acc:0.9553\n",
            "  77 tr_loss:0.1255 val_loss:0.1452 tr_acc:0.9605 val_acc:0.9567\n",
            "  78 tr_loss:0.1264 val_loss:0.1420 tr_acc:0.9612 val_acc:0.9566\n",
            "  79 tr_loss:0.1260 val_loss:0.1466 tr_acc:0.9607 val_acc:0.9548\n",
            "  80 tr_loss:0.1255 val_loss:0.1540 tr_acc:0.9606 val_acc:0.9532\n",
            "  81 tr_loss:0.1258 val_loss:0.1535 tr_acc:0.9610 val_acc:0.9526\n",
            "  82 tr_loss:0.1289 val_loss:0.1548 tr_acc:0.9598 val_acc:0.9530\n",
            "  83 tr_loss:0.1280 val_loss:0.1485 tr_acc:0.9601 val_acc:0.9536\n",
            "  84 tr_loss:0.1280 val_loss:0.1467 tr_acc:0.9608 val_acc:0.9567\n",
            "  85 tr_loss:0.1271 val_loss:0.1540 tr_acc:0.9604 val_acc:0.9528\n",
            "  86 tr_loss:0.1263 val_loss:0.1598 tr_acc:0.9609 val_acc:0.9503\n",
            "  87 tr_loss:0.1216 val_loss:0.1456 tr_acc:0.9620 val_acc:0.9560\n",
            "  88 tr_loss:0.1240 val_loss:0.1577 tr_acc:0.9610 val_acc:0.9525\n",
            "  89 tr_loss:0.1253 val_loss:0.1469 tr_acc:0.9604 val_acc:0.9569\n",
            "  90 tr_loss:0.1239 val_loss:0.1426 tr_acc:0.9612 val_acc:0.9569\n",
            "  91 tr_loss:0.1211 val_loss:0.1430 tr_acc:0.9626 val_acc:0.9559\n",
            "  92 tr_loss:0.1218 val_loss:0.1527 tr_acc:0.9622 val_acc:0.9547\n",
            "  93 tr_loss:0.1238 val_loss:0.1455 tr_acc:0.9610 val_acc:0.9567\n",
            "  94 tr_loss:0.1268 val_loss:0.1449 tr_acc:0.9612 val_acc:0.9572\n",
            "  95 tr_loss:0.1204 val_loss:0.1456 tr_acc:0.9627 val_acc:0.9561\n",
            "  96 tr_loss:0.1210 val_loss:0.1492 tr_acc:0.9620 val_acc:0.9538\n",
            "  97 tr_loss:0.1231 val_loss:0.1462 tr_acc:0.9621 val_acc:0.9550\n",
            "  98 tr_loss:0.1185 val_loss:0.1477 tr_acc:0.9631 val_acc:0.9576\n",
            "  99 tr_loss:0.1187 val_loss:0.1387 tr_acc:0.9634 val_acc:0.9594\n",
            " 100 tr_loss:0.1218 val_loss:0.1483 tr_acc:0.9616 val_acc:0.9539\n",
            " 101 tr_loss:0.1257 val_loss:0.1570 tr_acc:0.9603 val_acc:0.9533\n",
            " 102 tr_loss:0.1294 val_loss:0.1607 tr_acc:0.9597 val_acc:0.9492\n",
            " 103 tr_loss:0.1307 val_loss:0.1554 tr_acc:0.9594 val_acc:0.9539\n",
            " 104 tr_loss:0.1309 val_loss:0.1496 tr_acc:0.9596 val_acc:0.9535\n",
            " 105 tr_loss:0.1167 val_loss:0.1414 tr_acc:0.9634 val_acc:0.9587\n",
            " 106 tr_loss:0.1121 val_loss:0.1386 tr_acc:0.9646 val_acc:0.9579\n",
            " 107 tr_loss:0.1151 val_loss:0.1392 tr_acc:0.9639 val_acc:0.9594\n",
            " 108 tr_loss:0.1157 val_loss:0.1391 tr_acc:0.9642 val_acc:0.9576\n",
            " 109 tr_loss:0.1160 val_loss:0.1435 tr_acc:0.9639 val_acc:0.9565\n",
            " 110 tr_loss:0.1202 val_loss:0.1401 tr_acc:0.9636 val_acc:0.9587\n",
            " 111 tr_loss:0.1122 val_loss:0.1383 tr_acc:0.9654 val_acc:0.9567\n",
            " 112 tr_loss:0.1098 val_loss:0.1386 tr_acc:0.9661 val_acc:0.9574\n",
            " 113 tr_loss:0.1121 val_loss:0.1427 tr_acc:0.9646 val_acc:0.9562\n",
            " 114 tr_loss:0.1102 val_loss:0.1450 tr_acc:0.9653 val_acc:0.9563\n",
            " 115 tr_loss:0.1112 val_loss:0.1280 tr_acc:0.9655 val_acc:0.9615\n",
            " 116 tr_loss:0.1086 val_loss:0.1338 tr_acc:0.9661 val_acc:0.9590\n",
            " 117 tr_loss:0.1174 val_loss:0.1383 tr_acc:0.9636 val_acc:0.9578\n",
            " 118 tr_loss:0.1121 val_loss:0.1305 tr_acc:0.9643 val_acc:0.9611\n",
            " 119 tr_loss:0.1089 val_loss:0.1369 tr_acc:0.9661 val_acc:0.9585\n",
            " 120 tr_loss:0.1106 val_loss:0.1344 tr_acc:0.9653 val_acc:0.9570\n",
            " 121 tr_loss:0.1082 val_loss:0.1276 tr_acc:0.9653 val_acc:0.9615\n",
            " 122 tr_loss:0.1026 val_loss:0.1274 tr_acc:0.9685 val_acc:0.9625\n",
            " 123 tr_loss:0.1052 val_loss:0.1322 tr_acc:0.9664 val_acc:0.9612\n",
            " 124 tr_loss:0.1096 val_loss:0.1294 tr_acc:0.9657 val_acc:0.9615\n",
            " 125 tr_loss:0.1068 val_loss:0.1408 tr_acc:0.9671 val_acc:0.9570\n",
            " 126 tr_loss:0.1080 val_loss:0.1292 tr_acc:0.9667 val_acc:0.9611\n",
            " 127 tr_loss:0.1098 val_loss:0.1347 tr_acc:0.9664 val_acc:0.9607\n",
            " 128 tr_loss:0.1040 val_loss:0.1335 tr_acc:0.9680 val_acc:0.9620\n",
            " 129 tr_loss:0.1093 val_loss:0.1369 tr_acc:0.9667 val_acc:0.9597\n",
            " 130 tr_loss:0.1100 val_loss:0.1351 tr_acc:0.9659 val_acc:0.9610\n",
            " 131 tr_loss:0.1143 val_loss:0.1364 tr_acc:0.9640 val_acc:0.9590\n",
            " 132 tr_loss:0.1128 val_loss:0.1505 tr_acc:0.9645 val_acc:0.9559\n",
            " 133 tr_loss:0.1170 val_loss:0.1442 tr_acc:0.9631 val_acc:0.9557\n",
            " 134 tr_loss:0.1137 val_loss:0.1385 tr_acc:0.9632 val_acc:0.9580\n",
            " 135 tr_loss:0.1084 val_loss:0.1410 tr_acc:0.9654 val_acc:0.9583\n",
            " 136 tr_loss:0.1080 val_loss:0.1311 tr_acc:0.9659 val_acc:0.9608\n",
            " 137 tr_loss:0.1087 val_loss:0.1362 tr_acc:0.9661 val_acc:0.9604\n",
            " 138 tr_loss:0.1135 val_loss:0.1405 tr_acc:0.9652 val_acc:0.9578\n",
            " 139 tr_loss:0.1150 val_loss:0.1367 tr_acc:0.9646 val_acc:0.9595\n",
            " 140 tr_loss:0.1095 val_loss:0.1316 tr_acc:0.9662 val_acc:0.9585\n",
            " 141 tr_loss:0.1117 val_loss:0.1311 tr_acc:0.9653 val_acc:0.9602\n",
            " 142 tr_loss:0.1126 val_loss:0.1343 tr_acc:0.9655 val_acc:0.9595\n",
            " 143 tr_loss:0.1092 val_loss:0.1310 tr_acc:0.9659 val_acc:0.9603\n",
            " 144 tr_loss:0.1076 val_loss:0.1391 tr_acc:0.9661 val_acc:0.9601\n",
            " 145 tr_loss:0.1155 val_loss:0.1382 tr_acc:0.9646 val_acc:0.9587\n",
            " 146 tr_loss:0.1090 val_loss:0.1375 tr_acc:0.9664 val_acc:0.9569\n",
            " 147 tr_loss:0.1105 val_loss:0.1409 tr_acc:0.9658 val_acc:0.9587\n",
            " 148 tr_loss:0.1076 val_loss:0.1402 tr_acc:0.9663 val_acc:0.9593\n",
            " 149 tr_loss:0.1047 val_loss:0.1377 tr_acc:0.9674 val_acc:0.9597\n",
            " 150 tr_loss:0.1013 val_loss:0.1341 tr_acc:0.9683 val_acc:0.9592\n",
            " 151 tr_loss:0.1074 val_loss:0.1349 tr_acc:0.9664 val_acc:0.9595\n",
            " 152 tr_loss:0.1084 val_loss:0.1443 tr_acc:0.9659 val_acc:0.9589\n",
            " 153 tr_loss:0.1047 val_loss:0.1330 tr_acc:0.9670 val_acc:0.9612\n",
            " 154 tr_loss:0.1021 val_loss:0.1420 tr_acc:0.9676 val_acc:0.9577\n",
            " 155 tr_loss:0.1034 val_loss:0.1387 tr_acc:0.9674 val_acc:0.9593\n",
            " 156 tr_loss:0.1011 val_loss:0.1347 tr_acc:0.9681 val_acc:0.9606\n",
            " 157 tr_loss:0.1010 val_loss:0.1399 tr_acc:0.9689 val_acc:0.9592\n",
            " 158 tr_loss:0.0964 val_loss:0.1401 tr_acc:0.9697 val_acc:0.9595\n",
            " 159 tr_loss:0.0995 val_loss:0.1427 tr_acc:0.9687 val_acc:0.9570\n",
            " 160 tr_loss:0.1044 val_loss:0.1421 tr_acc:0.9676 val_acc:0.9580\n",
            " 161 tr_loss:0.1084 val_loss:0.1352 tr_acc:0.9667 val_acc:0.9597\n",
            " 162 tr_loss:0.1047 val_loss:0.1342 tr_acc:0.9680 val_acc:0.9618\n",
            " 163 tr_loss:0.1028 val_loss:0.1282 tr_acc:0.9688 val_acc:0.9638\n",
            " 164 tr_loss:0.0996 val_loss:0.1304 tr_acc:0.9693 val_acc:0.9619\n",
            " 165 tr_loss:0.1003 val_loss:0.1280 tr_acc:0.9690 val_acc:0.9625\n",
            " 166 tr_loss:0.1013 val_loss:0.1327 tr_acc:0.9686 val_acc:0.9626\n",
            " 167 tr_loss:0.1015 val_loss:0.1396 tr_acc:0.9686 val_acc:0.9593\n",
            " 168 tr_loss:0.1063 val_loss:0.1414 tr_acc:0.9667 val_acc:0.9586\n",
            " 169 tr_loss:0.1082 val_loss:0.1455 tr_acc:0.9659 val_acc:0.9559\n",
            " 170 tr_loss:0.1033 val_loss:0.1385 tr_acc:0.9681 val_acc:0.9597\n",
            " 171 tr_loss:0.1085 val_loss:0.1471 tr_acc:0.9663 val_acc:0.9567\n",
            " 172 tr_loss:0.1022 val_loss:0.1350 tr_acc:0.9688 val_acc:0.9611\n",
            " 173 tr_loss:0.1000 val_loss:0.1349 tr_acc:0.9693 val_acc:0.9599\n",
            " 174 tr_loss:0.0991 val_loss:0.1388 tr_acc:0.9699 val_acc:0.9589\n",
            " 175 tr_loss:0.1019 val_loss:0.1361 tr_acc:0.9686 val_acc:0.9606\n",
            " 176 tr_loss:0.0947 val_loss:0.1358 tr_acc:0.9708 val_acc:0.9602\n",
            " 177 tr_loss:0.1019 val_loss:0.1321 tr_acc:0.9686 val_acc:0.9616\n",
            " 178 tr_loss:0.1045 val_loss:0.1319 tr_acc:0.9676 val_acc:0.9611\n",
            " 179 tr_loss:0.1037 val_loss:0.1385 tr_acc:0.9672 val_acc:0.9591\n",
            " 180 tr_loss:0.0992 val_loss:0.1319 tr_acc:0.9697 val_acc:0.9608\n",
            " 181 tr_loss:0.0999 val_loss:0.1349 tr_acc:0.9691 val_acc:0.9612\n",
            " 182 tr_loss:0.0980 val_loss:0.1298 tr_acc:0.9698 val_acc:0.9631\n",
            " 183 tr_loss:0.0958 val_loss:0.1340 tr_acc:0.9702 val_acc:0.9591\n",
            " 184 tr_loss:0.0998 val_loss:0.1293 tr_acc:0.9686 val_acc:0.9625\n",
            " 185 tr_loss:0.0957 val_loss:0.1335 tr_acc:0.9705 val_acc:0.9601\n",
            " 186 tr_loss:0.0997 val_loss:0.1246 tr_acc:0.9687 val_acc:0.9619\n",
            " 187 tr_loss:0.0999 val_loss:0.1307 tr_acc:0.9693 val_acc:0.9601\n",
            " 188 tr_loss:0.0993 val_loss:0.1324 tr_acc:0.9694 val_acc:0.9610\n",
            " 189 tr_loss:0.1007 val_loss:0.1369 tr_acc:0.9691 val_acc:0.9613\n",
            " 190 tr_loss:0.0983 val_loss:0.1414 tr_acc:0.9693 val_acc:0.9604\n",
            " 191 tr_loss:0.1098 val_loss:0.1424 tr_acc:0.9659 val_acc:0.9565\n",
            " 192 tr_loss:0.1099 val_loss:0.1460 tr_acc:0.9656 val_acc:0.9553\n",
            " 193 tr_loss:0.1099 val_loss:0.1387 tr_acc:0.9653 val_acc:0.9585\n",
            " 194 tr_loss:0.1020 val_loss:0.1332 tr_acc:0.9678 val_acc:0.9603\n",
            " 195 tr_loss:0.1004 val_loss:0.1377 tr_acc:0.9686 val_acc:0.9601\n",
            " 196 tr_loss:0.0987 val_loss:0.1335 tr_acc:0.9694 val_acc:0.9614\n",
            " 197 tr_loss:0.0963 val_loss:0.1274 tr_acc:0.9697 val_acc:0.9636\n",
            " 198 tr_loss:0.0927 val_loss:0.1244 tr_acc:0.9708 val_acc:0.9626\n",
            " 199 tr_loss:0.0948 val_loss:0.1300 tr_acc:0.9714 val_acc:0.9606\n"
          ],
          "name": "stdout"
        }
      ]
    },
    {
      "cell_type": "code",
      "metadata": {
        "colab": {
          "base_uri": "https://localhost:8080/",
          "height": 284
        },
        "id": "A1_YECTrVXMX",
        "outputId": "01f76346-1c0e-4c81-da24-0876aee2971c"
      },
      "source": [
        "plt.plot(train_loss_history);\n",
        "plt.plot(test_loss_history);\n",
        "print(\"--- %s seconds ---\" % (time.time() - start_time))"
      ],
      "execution_count": 16,
      "outputs": [
        {
          "output_type": "stream",
          "text": [
            "--- 308.31867718696594 seconds ---\n"
          ],
          "name": "stdout"
        },
        {
          "output_type": "display_data",
          "data": {
            "image/png": "[encoded data removed]",
            "text/plain": [
              "<Figure size 432x288 with 1 Axes>"
            ]
          },
          "metadata": {
            "tags": [],
            "needs_background": "light"
          }
        }
      ]
    },
    {
      "cell_type": "code",
      "metadata": {
        "colab": {
          "base_uri": "https://localhost:8080/",
          "height": 1000
        },
        "id": "NLuzLOEWa267",
        "outputId": "6937fa7c-bbb6-40d2-e422-87ad505d611c"
      },
      "source": [
        "batch_size = 100\n",
        "\n",
        "test_accuracy_history = []\n",
        "test_loss_history = []\n",
        "train_accuracy_history = []\n",
        "train_loss_history = []\n",
        "\n",
        "X_test = X_test.to(device)\n",
        "y_test = y_test.to(device)\n",
        "\n",
        "for epoch in range(100):\n",
        "    order = np.random.permutation(len(X_train))\n",
        "    train_preds = torch.zeros([X_train.shape[0], 10], dtype=torch.float)\n",
        "    train_batch_loss_history = []\n",
        "\n",
        "    for start_index in range(0, len(X_train), batch_size):\n",
        "        optimizer.zero_grad()\n",
        "        \n",
        "        batch_indexes = order[start_index:start_index+batch_size]\n",
        "        \n",
        "        X_batch = X_train[batch_indexes].to(device)\n",
        "        y_batch = y_train[batch_indexes].to(device)\n",
        "        \n",
        "        preds = mnist_net.forward(X_batch) \n",
        "        \n",
        "        loss_value = loss(preds, y_batch)\n",
        "        loss_value.backward()\n",
        "        \n",
        "        train_batch_loss_history.append(loss_value.tolist())\n",
        "        \n",
        "        train_preds[batch_indexes] = preds.cpu()\n",
        "        optimizer.step()\n",
        "\n",
        "    test_preds = mnist_net.forward(X_test)\n",
        "    test_loss = loss(test_preds, y_test)\n",
        "    test_loss_history.append(test_loss)\n",
        "    \n",
        "    accuracy = (test_preds.argmax(dim=1) == y_test).float().mean()\n",
        "    test_accuracy_history.append(accuracy)\n",
        "    \n",
        "    train_loss = np.mean(train_batch_loss_history)\n",
        "    train_loss_history.append(train_loss)\n",
        "    \n",
        "    accuracy2 = (train_preds.argmax(dim=1) == y_train).float().mean()\n",
        "    train_accuracy_history.append(accuracy2)\n",
        "\n",
        "    print('{:4d} tr_loss:{:.4f} val_loss:{:.4f} tr_acc:{:.4f} val_acc:{:.4f}'.format(\n",
        "        epoch,\n",
        "        train_loss,\n",
        "        test_loss,\n",
        "        accuracy2.tolist(),\n",
        "        accuracy.tolist()))\n",
        "    \n",
        "plt.plot(train_accuracy_history);\n",
        "plt.plot(test_accuracy_history);"
      ],
      "execution_count": 17,
      "outputs": [
        {
          "output_type": "stream",
          "text": [
            "   0 tr_loss:0.0967 val_loss:0.1259 tr_acc:0.9705 val_acc:0.9627\n",
            "   1 tr_loss:0.0985 val_loss:0.1391 tr_acc:0.9691 val_acc:0.9593\n",
            "   2 tr_loss:0.1022 val_loss:0.1317 tr_acc:0.9686 val_acc:0.9643\n",
            "   3 tr_loss:0.0963 val_loss:0.1282 tr_acc:0.9698 val_acc:0.9606\n",
            "   4 tr_loss:0.0918 val_loss:0.1300 tr_acc:0.9715 val_acc:0.9629\n",
            "   5 tr_loss:0.0993 val_loss:0.1317 tr_acc:0.9693 val_acc:0.9614\n",
            "   6 tr_loss:0.0971 val_loss:0.1216 tr_acc:0.9702 val_acc:0.9647\n",
            "   7 tr_loss:0.0912 val_loss:0.1288 tr_acc:0.9710 val_acc:0.9621\n",
            "   8 tr_loss:0.0933 val_loss:0.1260 tr_acc:0.9710 val_acc:0.9635\n",
            "   9 tr_loss:0.1020 val_loss:0.1295 tr_acc:0.9681 val_acc:0.9619\n",
            "  10 tr_loss:0.1044 val_loss:0.1282 tr_acc:0.9682 val_acc:0.9603\n",
            "  11 tr_loss:0.1034 val_loss:0.1434 tr_acc:0.9680 val_acc:0.9569\n",
            "  12 tr_loss:0.1029 val_loss:0.1398 tr_acc:0.9682 val_acc:0.9610\n",
            "  13 tr_loss:0.1036 val_loss:0.1359 tr_acc:0.9682 val_acc:0.9590\n",
            "  14 tr_loss:0.1031 val_loss:0.1357 tr_acc:0.9683 val_acc:0.9592\n",
            "  15 tr_loss:0.1002 val_loss:0.1293 tr_acc:0.9685 val_acc:0.9638\n",
            "  16 tr_loss:0.0977 val_loss:0.1313 tr_acc:0.9704 val_acc:0.9618\n",
            "  17 tr_loss:0.1006 val_loss:0.1305 tr_acc:0.9688 val_acc:0.9625\n",
            "  18 tr_loss:0.1009 val_loss:0.1374 tr_acc:0.9688 val_acc:0.9607\n",
            "  19 tr_loss:0.1003 val_loss:0.1390 tr_acc:0.9690 val_acc:0.9599\n",
            "  20 tr_loss:0.0987 val_loss:0.1347 tr_acc:0.9694 val_acc:0.9610\n",
            "  21 tr_loss:0.0930 val_loss:0.1281 tr_acc:0.9708 val_acc:0.9645\n",
            "  22 tr_loss:0.0925 val_loss:0.1180 tr_acc:0.9711 val_acc:0.9647\n",
            "  23 tr_loss:0.0932 val_loss:0.1297 tr_acc:0.9715 val_acc:0.9605\n",
            "  24 tr_loss:0.0935 val_loss:0.1237 tr_acc:0.9707 val_acc:0.9638\n",
            "  25 tr_loss:0.0887 val_loss:0.1283 tr_acc:0.9725 val_acc:0.9635\n",
            "  26 tr_loss:0.0918 val_loss:0.1287 tr_acc:0.9709 val_acc:0.9614\n",
            "  27 tr_loss:0.0946 val_loss:0.1289 tr_acc:0.9699 val_acc:0.9608\n",
            "  28 tr_loss:0.0977 val_loss:0.1308 tr_acc:0.9694 val_acc:0.9611\n",
            "  29 tr_loss:0.0940 val_loss:0.1244 tr_acc:0.9705 val_acc:0.9633\n",
            "  30 tr_loss:0.0966 val_loss:0.1272 tr_acc:0.9692 val_acc:0.9623\n",
            "  31 tr_loss:0.0948 val_loss:0.1183 tr_acc:0.9702 val_acc:0.9647\n",
            "  32 tr_loss:0.0929 val_loss:0.1250 tr_acc:0.9708 val_acc:0.9618\n",
            "  33 tr_loss:0.0903 val_loss:0.1300 tr_acc:0.9711 val_acc:0.9608\n",
            "  34 tr_loss:0.0930 val_loss:0.1258 tr_acc:0.9708 val_acc:0.9630\n",
            "  35 tr_loss:0.0959 val_loss:0.1275 tr_acc:0.9700 val_acc:0.9633\n",
            "  36 tr_loss:0.0938 val_loss:0.1264 tr_acc:0.9707 val_acc:0.9615\n",
            "  37 tr_loss:0.0897 val_loss:0.1194 tr_acc:0.9722 val_acc:0.9653\n",
            "  38 tr_loss:0.0865 val_loss:0.1206 tr_acc:0.9729 val_acc:0.9667\n",
            "  39 tr_loss:0.0889 val_loss:0.1324 tr_acc:0.9721 val_acc:0.9618\n",
            "  40 tr_loss:0.0891 val_loss:0.1338 tr_acc:0.9724 val_acc:0.9629\n",
            "  41 tr_loss:0.0918 val_loss:0.1336 tr_acc:0.9717 val_acc:0.9627\n",
            "  42 tr_loss:0.0912 val_loss:0.1311 tr_acc:0.9713 val_acc:0.9644\n",
            "  43 tr_loss:0.0887 val_loss:0.1315 tr_acc:0.9723 val_acc:0.9602\n",
            "  44 tr_loss:0.0883 val_loss:0.1226 tr_acc:0.9722 val_acc:0.9612\n",
            "  45 tr_loss:0.0896 val_loss:0.1297 tr_acc:0.9718 val_acc:0.9611\n",
            "  46 tr_loss:0.0902 val_loss:0.1284 tr_acc:0.9715 val_acc:0.9616\n",
            "  47 tr_loss:0.0843 val_loss:0.1302 tr_acc:0.9736 val_acc:0.9632\n",
            "  48 tr_loss:0.0829 val_loss:0.1258 tr_acc:0.9737 val_acc:0.9632\n",
            "  49 tr_loss:0.0818 val_loss:0.1226 tr_acc:0.9746 val_acc:0.9628\n",
            "  50 tr_loss:0.0798 val_loss:0.1268 tr_acc:0.9753 val_acc:0.9637\n",
            "  51 tr_loss:0.0828 val_loss:0.1313 tr_acc:0.9741 val_acc:0.9611\n",
            "  52 tr_loss:0.0834 val_loss:0.1244 tr_acc:0.9738 val_acc:0.9650\n",
            "  53 tr_loss:0.0831 val_loss:0.1313 tr_acc:0.9739 val_acc:0.9619\n",
            "  54 tr_loss:0.0855 val_loss:0.1262 tr_acc:0.9738 val_acc:0.9636\n",
            "  55 tr_loss:0.0856 val_loss:0.1338 tr_acc:0.9729 val_acc:0.9605\n",
            "  56 tr_loss:0.0919 val_loss:0.1344 tr_acc:0.9711 val_acc:0.9610\n",
            "  57 tr_loss:0.0927 val_loss:0.1319 tr_acc:0.9714 val_acc:0.9625\n",
            "  58 tr_loss:0.0891 val_loss:0.1339 tr_acc:0.9725 val_acc:0.9612\n",
            "  59 tr_loss:0.0890 val_loss:0.1331 tr_acc:0.9725 val_acc:0.9619\n",
            "  60 tr_loss:0.0929 val_loss:0.1291 tr_acc:0.9712 val_acc:0.9625\n",
            "  61 tr_loss:0.0960 val_loss:0.1250 tr_acc:0.9698 val_acc:0.9627\n",
            "  62 tr_loss:0.0876 val_loss:0.1340 tr_acc:0.9727 val_acc:0.9602\n",
            "  63 tr_loss:0.0900 val_loss:0.1254 tr_acc:0.9727 val_acc:0.9639\n",
            "  64 tr_loss:0.0903 val_loss:0.1288 tr_acc:0.9719 val_acc:0.9628\n",
            "  65 tr_loss:0.0906 val_loss:0.1212 tr_acc:0.9723 val_acc:0.9648\n",
            "  66 tr_loss:0.0896 val_loss:0.1304 tr_acc:0.9717 val_acc:0.9612\n",
            "  67 tr_loss:0.0860 val_loss:0.1276 tr_acc:0.9730 val_acc:0.9634\n",
            "  68 tr_loss:0.0896 val_loss:0.1292 tr_acc:0.9721 val_acc:0.9620\n",
            "  69 tr_loss:0.0866 val_loss:0.1272 tr_acc:0.9729 val_acc:0.9633\n",
            "  70 tr_loss:0.0839 val_loss:0.1268 tr_acc:0.9740 val_acc:0.9629\n",
            "  71 tr_loss:0.0858 val_loss:0.1224 tr_acc:0.9732 val_acc:0.9655\n",
            "  72 tr_loss:0.0828 val_loss:0.1187 tr_acc:0.9742 val_acc:0.9652\n",
            "  73 tr_loss:0.0850 val_loss:0.1239 tr_acc:0.9733 val_acc:0.9637\n",
            "  74 tr_loss:0.0880 val_loss:0.1233 tr_acc:0.9727 val_acc:0.9635\n",
            "  75 tr_loss:0.0889 val_loss:0.1246 tr_acc:0.9718 val_acc:0.9639\n",
            "  76 tr_loss:0.0871 val_loss:0.1228 tr_acc:0.9726 val_acc:0.9644\n",
            "  77 tr_loss:0.0852 val_loss:0.1280 tr_acc:0.9734 val_acc:0.9646\n",
            "  78 tr_loss:0.0844 val_loss:0.1202 tr_acc:0.9739 val_acc:0.9662\n",
            "  79 tr_loss:0.0831 val_loss:0.1235 tr_acc:0.9739 val_acc:0.9658\n",
            "  80 tr_loss:0.0856 val_loss:0.1264 tr_acc:0.9730 val_acc:0.9649\n",
            "  81 tr_loss:0.0862 val_loss:0.1267 tr_acc:0.9726 val_acc:0.9645\n",
            "  82 tr_loss:0.0843 val_loss:0.1274 tr_acc:0.9740 val_acc:0.9633\n",
            "  83 tr_loss:0.0847 val_loss:0.1222 tr_acc:0.9733 val_acc:0.9646\n",
            "  84 tr_loss:0.0839 val_loss:0.1197 tr_acc:0.9744 val_acc:0.9652\n",
            "  85 tr_loss:0.0838 val_loss:0.1218 tr_acc:0.9732 val_acc:0.9650\n",
            "  86 tr_loss:0.0867 val_loss:0.1325 tr_acc:0.9725 val_acc:0.9608\n",
            "  87 tr_loss:0.0886 val_loss:0.1280 tr_acc:0.9727 val_acc:0.9649\n",
            "  88 tr_loss:0.0829 val_loss:0.1261 tr_acc:0.9746 val_acc:0.9649\n",
            "  89 tr_loss:0.0812 val_loss:0.1305 tr_acc:0.9749 val_acc:0.9640\n",
            "  90 tr_loss:0.0831 val_loss:0.1264 tr_acc:0.9747 val_acc:0.9645\n",
            "  91 tr_loss:0.0848 val_loss:0.1276 tr_acc:0.9732 val_acc:0.9640\n",
            "  92 tr_loss:0.0857 val_loss:0.1346 tr_acc:0.9735 val_acc:0.9629\n",
            "  93 tr_loss:0.0908 val_loss:0.1311 tr_acc:0.9720 val_acc:0.9632\n",
            "  94 tr_loss:0.0901 val_loss:0.1257 tr_acc:0.9719 val_acc:0.9639\n",
            "  95 tr_loss:0.0905 val_loss:0.1334 tr_acc:0.9718 val_acc:0.9621\n",
            "  96 tr_loss:0.0914 val_loss:0.1295 tr_acc:0.9722 val_acc:0.9646\n",
            "  97 tr_loss:0.0875 val_loss:0.1293 tr_acc:0.9731 val_acc:0.9637\n",
            "  98 tr_loss:0.0854 val_loss:0.1335 tr_acc:0.9741 val_acc:0.9619\n",
            "  99 tr_loss:0.0873 val_loss:0.1332 tr_acc:0.9733 val_acc:0.9640\n"
          ],
          "name": "stdout"
        },
        {
          "output_type": "display_data",
          "data": {
            "image/png": "[encoded data removed]",
            "text/plain": [
              "<Figure size 432x288 with 1 Axes>"
            ]
          },
          "metadata": {
            "tags": [],
            "needs_background": "light"
          }
        }
      ]
    },
    {
      "cell_type": "markdown",
      "metadata": {
        "id": "2eKEFNz0aa_4"
      },
      "source": [
        "1. Построено\n",
        "2. На представленном выше графике видно, что loss для train и validation ведет себя примерно одинаково. Переобучения нет. Если бы оно было, то на графике на train было бы уменьшение значений, а на validation увеличение.\n",
        "3. Ведет ли увеличение количества эпох (40 эпох -> 200 эпох) к улучшению метрик на валидации? Судя по графику нет\n",
        "4. 200 эпох на cpu - 1139.5530741214752 seconds, gpu- 607.2110166549683 seconds. на gpu быстрее примерно в 2 раза.\n",
        "5. Нет либо незначительно\n",
        "6. "
      ]
    }
  ]
}